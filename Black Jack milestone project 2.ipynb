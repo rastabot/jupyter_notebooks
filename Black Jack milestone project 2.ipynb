{
 "cells": [
  {
   "cell_type": "code",
   "execution_count": 1,
   "metadata": {},
   "outputs": [],
   "source": [
    "import random\n",
    "suits = ('Hearts', 'Diamonds', 'Spades', 'Clubs')\n",
    "ranks = ('Two', 'Three', 'Four', 'Five', 'Six', 'Seven', 'Eight', 'Nine', 'Ten', 'Jack', 'Queen', 'King', 'Ace')\n",
    "values = {'Two':2, 'Three':3, 'Four':4, 'Five':5, 'Six':6, 'Seven':7, 'Eight':8, 'Nine':9, 'Ten':10, 'Jack':10,\n",
    "         'Queen':10, 'King':10, 'Ace':11}\n",
    "playing = True"
   ]
  },
  {
   "cell_type": "code",
   "execution_count": 2,
   "metadata": {},
   "outputs": [],
   "source": [
    "class Card:\n",
    "    \n",
    "    def __init__(self,suit,rank):\n",
    "        self.suit=suit\n",
    "        self.rank=rank        \n",
    "           \n",
    "    def __str__(self):\n",
    "        return self.rank + ' of ' + self.suit  "
   ]
  },
  {
   "cell_type": "code",
   "execution_count": 3,
   "metadata": {},
   "outputs": [],
   "source": [
    "class Deck:\n",
    "    \n",
    "    def __init__(self):\n",
    "        self.deck = []  # start with an empty list\n",
    "        for suit in suits:\n",
    "            for rank in ranks:\n",
    "                self.deck.append(Card(suit,rank))      \n",
    "    \n",
    "    def __str__(self):\n",
    "        deck_comp = ''  # start with an empty string\n",
    "        for card in self.deck:\n",
    "            deck_comp += '\\n '+ card.__str__()  # add each Card object's print string\n",
    "        return 'The deck has:' + deck_comp\n",
    "           \n",
    "    \n",
    "    def shuffle(self):\n",
    "        random.shuffle(self.deck)\n",
    "        \n",
    "    def deal(self):\n",
    "        card1=self.deck.pop()\n",
    "        return card1"
   ]
  },
  {
   "cell_type": "code",
   "execution_count": 4,
   "metadata": {},
   "outputs": [
    {
     "name": "stdout",
     "output_type": "stream",
     "text": [
      "Seven of Spades\n"
     ]
    }
   ],
   "source": [
    "card1=Card(suits[2],ranks[5])\n",
    "\n",
    " \n",
    "print(card1)\n",
    "#print(card2)\n",
    "test_deck=Deck()\n",
    "card2=test_deck.deal\n",
    "\n",
    "\n"
   ]
  },
  {
   "cell_type": "code",
   "execution_count": 5,
   "metadata": {},
   "outputs": [
    {
     "data": {
      "text/plain": [
       "'Seven'"
      ]
     },
     "execution_count": 5,
     "metadata": {},
     "output_type": "execute_result"
    }
   ],
   "source": [
    "card1.rank"
   ]
  },
  {
   "cell_type": "code",
   "execution_count": 6,
   "metadata": {},
   "outputs": [],
   "source": [
    "class Hand:\n",
    "    def __init__(self):\n",
    "        self.cards = []  # start with an empty list as we did in the Deck class\n",
    "        self.value = 0   # start with zero value\n",
    "        self.aces = 0    # add an attribute to keep track of aces\n",
    "    \n",
    "    def add_card(self,card):        \n",
    "        self.cards.append(card)\n",
    "        rank1=card.rank\n",
    "        self.value+=values[rank1]\n",
    "        if values[rank1]==11:\n",
    "            self.aces+=1\n",
    "        \n",
    "    \n",
    "    def adjust_for_ace(self):\n",
    "        if self.aces>0 and self.value>21:\n",
    "            self.value-=10"
   ]
  },
  {
   "cell_type": "code",
   "execution_count": 7,
   "metadata": {},
   "outputs": [
    {
     "data": {
      "text/plain": [
       "'Ace'"
      ]
     },
     "execution_count": 7,
     "metadata": {},
     "output_type": "execute_result"
    }
   ],
   "source": [
    "card1=Card(suits[2],ranks[5])\n",
    "card2=Card(suits[3],ranks[10])\n",
    "card3=Card(suits[2],ranks[12])\n",
    "card4=Card(suits[1],ranks[12])\n",
    "card3.rank"
   ]
  },
  {
   "cell_type": "code",
   "execution_count": 8,
   "metadata": {},
   "outputs": [
    {
     "data": {
      "text/plain": [
       "18"
      ]
     },
     "execution_count": 8,
     "metadata": {},
     "output_type": "execute_result"
    }
   ],
   "source": [
    "hand1=Hand()\n",
    "hand1.add_card(card1)\n",
    "hand1.add_card(card2)\n",
    "hand1.add_card(card3)\n",
    "hand1.adjust_for_ace()\n",
    "hand1.value"
   ]
  },
  {
   "cell_type": "code",
   "execution_count": 9,
   "metadata": {},
   "outputs": [
    {
     "data": {
      "text/plain": [
       "19"
      ]
     },
     "execution_count": 9,
     "metadata": {},
     "output_type": "execute_result"
    }
   ],
   "source": [
    "hand1.add_card(card4)\n",
    "hand1.adjust_for_ace()\n",
    "hand1.value"
   ]
  },
  {
   "cell_type": "code",
   "execution_count": 10,
   "metadata": {},
   "outputs": [],
   "source": [
    "class Chips:\n",
    "    \n",
    "    def __init__(self):\n",
    "        self.total = 1000  # This can be set to a default value or supplied by a user input\n",
    "        self.bet = 0\n",
    "        \n",
    "    def win_bet(self):\n",
    "        #self.bet=bet\n",
    "        self.total+=self.bet\n",
    "    \n",
    "    def lose_bet(self):\n",
    "        #self.bet=bet\n",
    "        self.total-=self.bet"
   ]
  },
  {
   "cell_type": "code",
   "execution_count": 11,
   "metadata": {},
   "outputs": [
    {
     "name": "stdout",
     "output_type": "stream",
     "text": [
      "1000\n"
     ]
    }
   ],
   "source": [
    "chips=Chips()\n",
    "print(chips.total)\n"
   ]
  },
  {
   "cell_type": "code",
   "execution_count": 12,
   "metadata": {},
   "outputs": [],
   "source": [
    "def take_bet():\n",
    "    while True:\n",
    "        \n",
    "        try:\n",
    "            bet=int(input(\"enter bet \"))\n",
    "        except :\n",
    "            print('enter only a number')\n",
    "            continue\n",
    "        else:\n",
    "            break\n",
    "        \n",
    "    return bet\n",
    "    \n",
    "    "
   ]
  },
  {
   "cell_type": "code",
   "execution_count": 13,
   "metadata": {},
   "outputs": [],
   "source": [
    "#chips.bet=take_bet()\n",
    "#chips.lose_bet()\n",
    "#print(chips.total)"
   ]
  },
  {
   "cell_type": "code",
   "execution_count": 14,
   "metadata": {},
   "outputs": [],
   "source": [
    "def hit(deck,hand):\n",
    "    card1=deck.deal()\n",
    "    print('the hit was: ',end=\" \")\n",
    "    print(card1)\n",
    "    hand.add_card(card1)\n",
    "    hand.adjust_for_ace()"
   ]
  },
  {
   "cell_type": "code",
   "execution_count": 15,
   "metadata": {},
   "outputs": [
    {
     "name": "stdout",
     "output_type": "stream",
     "text": [
      "Eight of Spades\n",
      "Five of Spades\n",
      "Eight of Spades Five of Spades\n"
     ]
    },
    {
     "data": {
      "text/plain": [
       "2"
      ]
     },
     "execution_count": 15,
     "metadata": {},
     "output_type": "execute_result"
    }
   ],
   "source": [
    "deck1=Deck()\n",
    "hand2=Hand()\n",
    "deck1.shuffle()\n",
    "c1=deck1.deal()\n",
    "c2=deck1.deal()\n",
    "print(c1)\n",
    "print(c2)\n",
    "\n",
    "\n",
    "hand2.add_card(c1)\n",
    "hand2.add_card(c2)\n",
    "hand2.value\n",
    "print(hand2.cards[0],hand2.cards[1])\n",
    "len(hand2.cards)\n"
   ]
  },
  {
   "cell_type": "code",
   "execution_count": 16,
   "metadata": {},
   "outputs": [
    {
     "name": "stdout",
     "output_type": "stream",
     "text": [
      "the hit was:  Jack of Clubs\n"
     ]
    },
    {
     "data": {
      "text/plain": [
       "23"
      ]
     },
     "execution_count": 16,
     "metadata": {},
     "output_type": "execute_result"
    }
   ],
   "source": [
    "hit(deck1,hand2)\n",
    "hand2.value"
   ]
  },
  {
   "cell_type": "code",
   "execution_count": 17,
   "metadata": {},
   "outputs": [],
   "source": [
    "def hit_or_stand(deck,hand):\n",
    "    global playing  # to control an upcoming while loop\n",
    "    ans=input('\\nPress h to get hit, press s to stand: ')\n",
    "    while ans=='h':\n",
    "        hit(deck,hand)\n",
    "        print('\\nyou get hit')\n",
    "        ans=input('\\nPress h to get hit again or  press s to stand: ')\n",
    "    if ans=='s':\n",
    "        print('\\nplayer stands')\n",
    "        playing=False\n",
    "    "
   ]
  },
  {
   "cell_type": "code",
   "execution_count": 18,
   "metadata": {},
   "outputs": [],
   "source": [
    "deck1=Deck()\n",
    "hand2=Hand()\n",
    "#hit_or_stand(deck1,hand2)"
   ]
  },
  {
   "cell_type": "code",
   "execution_count": 19,
   "metadata": {},
   "outputs": [],
   "source": [
    "def show_some(player,dealer):\n",
    "    print(\"Dealer's card: \")\n",
    "    print(\"Dealer's hidden card || \",dealer.cards[1])\n",
    "    #print(dealer,cards[1])\n",
    "    print(\"\\nPlayer's card : \")\n",
    "    for j in range(len(player.cards)):\n",
    "        print( player.cards[j],\"||\",end=\" \")"
   ]
  },
  {
   "cell_type": "code",
   "execution_count": 20,
   "metadata": {},
   "outputs": [],
   "source": [
    "def show_all(player,dealer):\n",
    "    print(\"\\nDealer's cards\")\n",
    "    for i in range(len(dealer.cards)):\n",
    "        print( dealer.cards[i],\"||\",end=\" \")\n",
    "        #print(\"\\n\")\n",
    "        \n",
    "    print(\"\\n\\nPlayer's cards\")\n",
    "    for j in range(len(player.cards)):\n",
    "        print( player.cards[j],\"||\",end=\" \")\n",
    "        #print(\"\\n\")"
   ]
  },
  {
   "cell_type": "code",
   "execution_count": 21,
   "metadata": {},
   "outputs": [],
   "source": [
    "deck3=Deck()\n",
    "player=Hand()\n",
    "dealer=Hand()\n",
    "deck3.shuffle()\n"
   ]
  },
  {
   "cell_type": "code",
   "execution_count": 22,
   "metadata": {},
   "outputs": [],
   "source": [
    "player.add_card(deck3.deal())\n",
    "player.add_card(deck3.deal())\n",
    "dealer.add_card(deck3.deal())\n",
    "dealer.add_card(deck3.deal())"
   ]
  },
  {
   "cell_type": "code",
   "execution_count": 23,
   "metadata": {},
   "outputs": [
    {
     "name": "stdout",
     "output_type": "stream",
     "text": [
      "Dealer's card: \n",
      "Dealer's hidden card ||  Queen of Clubs\n",
      "\n",
      "Player's card : \n",
      "Five of Spades || Four of Spades || "
     ]
    }
   ],
   "source": [
    "show_some(player,dealer)"
   ]
  },
  {
   "cell_type": "code",
   "execution_count": 24,
   "metadata": {},
   "outputs": [
    {
     "name": "stdout",
     "output_type": "stream",
     "text": [
      "\n",
      "Dealer's cards\n",
      "Three of Diamonds || Queen of Clubs || \n",
      "\n",
      "Player's cards\n",
      "Five of Spades || Four of Spades || "
     ]
    }
   ],
   "source": [
    "show_all(player,dealer)"
   ]
  },
  {
   "cell_type": "code",
   "execution_count": 25,
   "metadata": {},
   "outputs": [],
   "source": [
    "def player_busts(player,chips):\n",
    "    if player.value>21 :\n",
    "        chips.lose_bet()\n",
    "        return True\n",
    "    else:\n",
    "        return False\n",
    "    \n",
    "def player_wins(player,dealer,chips):\n",
    "    print('\\nplayer wins')\n",
    "    print('\\nend chips : ',end=\" \")\n",
    "    print(chips.total)\n",
    "    chips.win_bet()\n",
    "    \n",
    "def dealer_busts(player,dealer,chips):\n",
    "    player_wins(player,dealer,chips)\n",
    "    print('\\nend chips : ',end=\" \")\n",
    "    print(chips.total)\n",
    "    print('\\ndealer busts')\n",
    "    \n",
    "def dealer_wins(player,dealer,chips):\n",
    "    chips.lose_bet()\n",
    "    print('\\nend chips : ',end=\" \")\n",
    "    print(chips.total)\n",
    "    print('\\ndealer wins, player looses')"
   ]
  },
  {
   "cell_type": "code",
   "execution_count": 26,
   "metadata": {},
   "outputs": [
    {
     "name": "stdout",
     "output_type": "stream",
     "text": [
      "START GAME\n",
      "Total chips to play:  1000\n",
      "enter bet 900\n",
      "Dealer's card: \n",
      "Dealer's hidden card ||  Seven of Diamonds\n",
      "\n",
      "Player's card : \n",
      "Ten of Diamonds || Three of Spades || \n",
      "Press h to get hit, press s to stand: h\n",
      "the hit was:  Ten of Spades\n",
      "\n",
      "you get hit\n",
      "\n",
      "Press h to get hit again or  press s to stand: s\n",
      "\n",
      "player stands\n",
      "Dealer's card: \n",
      "Dealer's hidden card ||  Seven of Diamonds\n",
      "\n",
      "Player's card : \n",
      "Ten of Diamonds || Three of Spades || Ten of Spades || \n",
      "end chips :  100\n",
      "\n",
      "player busts\n"
     ]
    }
   ],
   "source": [
    "from IPython.display import clear_output\n",
    "while True:\n",
    "    #star game\n",
    "    print('START GAME')\n",
    "    playing= True\n",
    "    deck=Deck()\n",
    "    deck.shuffle()\n",
    "    player=Hand()\n",
    "    dealer=Hand()\n",
    "    player.add_card(deck.deal())\n",
    "    player.add_card(deck.deal())\n",
    "    dealer.add_card(deck.deal())\n",
    "    dealer.add_card(deck.deal())\n",
    "    chips=Chips()\n",
    "    print('Total chips to play: ',end=\" \")\n",
    "    print(chips.total)\n",
    "    chips.bet=take_bet()\n",
    "    show_some(player,dealer)\n",
    "    while playing:\n",
    "        hit_or_stand(deck,player)\n",
    "        show_some(player,dealer)\n",
    "        if player_busts(player,chips):\n",
    "            print('\\nend chips : ',end=\" \")\n",
    "            print(chips.total)\n",
    "            print('\\nplayer busts')\n",
    "            break\n",
    "        else:\n",
    "            while dealer.value<=17:\n",
    "                hit(deck,dealer)\n",
    "        clear_output()\n",
    "        show_all(player,dealer)\n",
    "        if player.value<=21 and player.value>dealer.value:\n",
    "            player_wins(player,dealer,chips)\n",
    "        elif player.value>21:\n",
    "            player_busts(player,dealer,chips)\n",
    "        elif dealer.value>21:\n",
    "            dealer_busts(player,dealer,chips)\n",
    "        \n",
    "        print('\\ntotal chips are : ',end=\" \")\n",
    "        print(chips.total)\n",
    "        ans=input('wanna play again? n  or y')\n",
    "        while ans!='n' and ans!='y':\n",
    "            ans=input('wanna play again ? ONLY  n  or y ')\n",
    "        if ans=='n':\n",
    "            print('End of game')\n",
    "            break\n",
    "        if ans=='y':\n",
    "            continue\n",
    "        \n",
    "        \n",
    "    break\n"
   ]
  },
  {
   "cell_type": "code",
   "execution_count": null,
   "metadata": {},
   "outputs": [],
   "source": []
  },
  {
   "cell_type": "code",
   "execution_count": null,
   "metadata": {},
   "outputs": [],
   "source": []
  }
 ],
 "metadata": {
  "kernelspec": {
   "display_name": "Python 3",
   "language": "python",
   "name": "python3"
  },
  "language_info": {
   "codemirror_mode": {
    "name": "ipython",
    "version": 3
   },
   "file_extension": ".py",
   "mimetype": "text/x-python",
   "name": "python",
   "nbconvert_exporter": "python",
   "pygments_lexer": "ipython3",
   "version": "3.7.0"
  }
 },
 "nbformat": 4,
 "nbformat_minor": 2
}
