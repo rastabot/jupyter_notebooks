{
 "cells": [
  {
   "cell_type": "code",
   "execution_count": 3,
   "metadata": {},
   "outputs": [],
   "source": [
    "\n",
    "# this function create 6 random numbers between 1 and 37 , and one number between 1 and 7 <==> israeli lottery\n",
    "\n",
    "import random\n",
    "  \n",
    "    \n",
    "def lotto():\n",
    "    extra=random.randint(1,7);\n",
    "    numbs=[];\n",
    "    numbs.append(random.randint(1,37));\n",
    "    i=1\n",
    "    numb=random.randint(1,37);\n",
    "    while i<6 :\n",
    "        if numb not in numbs:\n",
    "            numbs.append(numb);\n",
    "            i+=1;\n",
    "        else :\n",
    "            numb=random.randint(1,37);            \n",
    "       \n",
    "    numbs.sort();\n",
    "    return numbs, extra;\n",
    "#-----  "
   ]
  },
  {
   "cell_type": "code",
   "execution_count": 4,
   "metadata": {},
   "outputs": [
    {
     "data": {
      "text/plain": [
       "([3, 6, 13, 15, 24, 29], 4)"
      ]
     },
     "execution_count": 4,
     "metadata": {},
     "output_type": "execute_result"
    }
   ],
   "source": [
    "lotto()"
   ]
  },
  {
   "cell_type": "code",
   "execution_count": 5,
   "metadata": {},
   "outputs": [],
   "source": [
    "def lines():\n",
    "    number=int(input(\"how many lines of lotto do you want? \"))\n",
    "    for i in range(1,number+1):\n",
    "               print (\"#\",i,\" \",lotto());"
   ]
  },
  {
   "cell_type": "code",
   "execution_count": 11,
   "metadata": {},
   "outputs": [
    {
     "name": "stdout",
     "output_type": "stream",
     "text": [
      "how many lines of lotto do you want? 12\n",
      "# 1   ([7, 13, 15, 18, 30, 33], 1)\n",
      "# 2   ([3, 5, 9, 11, 13, 25], 5)\n",
      "# 3   ([1, 9, 13, 16, 21, 35], 1)\n",
      "# 4   ([1, 3, 15, 32, 33, 37], 2)\n",
      "# 5   ([3, 10, 17, 21, 28, 33], 1)\n",
      "# 6   ([14, 21, 22, 23, 29, 35], 4)\n",
      "# 7   ([16, 20, 28, 29, 30, 36], 7)\n",
      "# 8   ([3, 6, 21, 22, 27, 33], 4)\n",
      "# 9   ([9, 10, 15, 16, 30, 35], 7)\n",
      "# 10   ([3, 16, 22, 25, 26, 28], 3)\n",
      "# 11   ([1, 9, 15, 23, 28, 29], 6)\n",
      "# 12   ([5, 10, 22, 26, 28, 37], 7)\n"
     ]
    }
   ],
   "source": [
    "lines()"
   ]
  },
  {
   "cell_type": "code",
   "execution_count": null,
   "metadata": {},
   "outputs": [],
   "source": []
  },
  {
   "cell_type": "code",
   "execution_count": null,
   "metadata": {},
   "outputs": [],
   "source": []
  }
 ],
 "metadata": {
  "kernelspec": {
   "display_name": "Python 3",
   "language": "python",
   "name": "python3"
  },
  "language_info": {
   "codemirror_mode": {
    "name": "ipython",
    "version": 3
   },
   "file_extension": ".py",
   "mimetype": "text/x-python",
   "name": "python",
   "nbconvert_exporter": "python",
   "pygments_lexer": "ipython3",
   "version": "3.7.0"
  }
 },
 "nbformat": 4,
 "nbformat_minor": 2
}
