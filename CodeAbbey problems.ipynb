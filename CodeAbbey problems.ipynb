{
 "cells": [
  {
   "cell_type": "code",
   "execution_count": 1,
   "metadata": {},
   "outputs": [],
   "source": [
    "def sum(a,b):\n",
    "    return a+b\n"
   ]
  },
  {
   "cell_type": "code",
   "execution_count": 2,
   "metadata": {},
   "outputs": [
    {
     "data": {
      "text/plain": [
       "8027"
      ]
     },
     "execution_count": 2,
     "metadata": {},
     "output_type": "execute_result"
    }
   ],
   "source": [
    "sum(4490,3537)"
   ]
  },
  {
   "cell_type": "code",
   "execution_count": 10,
   "metadata": {},
   "outputs": [],
   "source": [
    "def arrsum(arr):\n",
    "    sum1=0\n",
    "    for i in range(len(arr)):\n",
    "        sum1+=arr[i]\n",
    "        \n",
    "    return sum1\n"
   ]
  },
  {
   "cell_type": "code",
   "execution_count": 11,
   "metadata": {},
   "outputs": [
    {
     "data": {
      "text/plain": [
       "26026"
      ]
     },
     "execution_count": 11,
     "metadata": {},
     "output_type": "execute_result"
    }
   ],
   "source": [
    "arrsum([414,738,66,1070,682,1278,71,157,218,1279,672,1158,1056,803,425,908,958,255,1060,715,243,1054,83,792,1200,72,369,16,1175,927,682,288,364,738,58,1037,716,120,1185,924])"
   ]
  },
  {
   "cell_type": "code",
   "execution_count": 33,
   "metadata": {},
   "outputs": [],
   "source": [
    "def sum_of_arr(arr):\n",
    "    sum_arr=[]\n",
    "    for i in range(len(arr)):\n",
    "        sum_arr.append(arr[i][0]+arr[i][1])\n",
    "    \n",
    "    return sum_arr\n",
    "        "
   ]
  },
  {
   "cell_type": "code",
   "execution_count": 35,
   "metadata": {},
   "outputs": [],
   "source": [
    "first=[[995635,260697],\n",
    "[210302,758037],\n",
    "[164208,721116],\n",
    "[429592,925440],\n",
    "[819377,993654],\n",
    "[390058,557741],\n",
    "[939225,218246],\n",
    "[949183,896525],\n",
    "[693413,104975],\n",
    "[962502,579689],\n",
    "[761660,708645],\n",
    "[657417,344453],\n",
    "[325246,796547],\n",
    "[431340,541653]]"
   ]
  },
  {
   "cell_type": "code",
   "execution_count": 36,
   "metadata": {},
   "outputs": [
    {
     "data": {
      "text/plain": [
       "[1256332,\n",
       " 968339,\n",
       " 885324,\n",
       " 1355032,\n",
       " 1813031,\n",
       " 947799,\n",
       " 1157471,\n",
       " 1845708,\n",
       " 798388,\n",
       " 1542191,\n",
       " 1470305,\n",
       " 1001870,\n",
       " 1121793,\n",
       " 972993]"
      ]
     },
     "execution_count": 36,
     "metadata": {},
     "output_type": "execute_result"
    }
   ],
   "source": [
    "main=sum_of_arr(first)\n",
    "main"
   ]
  },
  {
   "cell_type": "markdown",
   "metadata": {},
   "source": [
    "sum_of_arr[0]"
   ]
  },
  {
   "cell_type": "code",
   "execution_count": 38,
   "metadata": {},
   "outputs": [
    {
     "name": "stdout",
     "output_type": "stream",
     "text": [
      "1256332 968339 885324 1355032 1813031 947799 1157471 1845708 798388 1542191 1470305 1001870 1121793 972993 "
     ]
    }
   ],
   "source": [
    "for i in range(len(main)):\n",
    "    print(main[i],\"\",end=\"\")\n"
   ]
  },
  {
   "cell_type": "code",
   "execution_count": 39,
   "metadata": {},
   "outputs": [
    {
     "data": {
      "text/plain": [
       "'C:\\\\Users\\\\Thor 3'"
      ]
     },
     "execution_count": 39,
     "metadata": {},
     "output_type": "execute_result"
    }
   ],
   "source": [
    "pwd\n"
   ]
  },
  {
   "cell_type": "code",
   "execution_count": 56,
   "metadata": {},
   "outputs": [],
   "source": [
    "with open('prob4.txt',mode='r') as f4:\n",
    "        contentlines = f4.readlines()\n",
    "        f4.seek(0)\n",
    "        content = f4.read()\n",
    "        f4.seek(0)\n",
    "       # print(f4.read())\n",
    "        "
   ]
  },
  {
   "cell_type": "code",
   "execution_count": 3,
   "metadata": {},
   "outputs": [
    {
     "data": {
      "text/plain": [
       "20"
      ]
     },
     "execution_count": 3,
     "metadata": {},
     "output_type": "execute_result"
    }
   ],
   "source": [
    "len(contentlines)"
   ]
  },
  {
   "cell_type": "code",
   "execution_count": 58,
   "metadata": {},
   "outputs": [
    {
     "data": {
      "text/plain": [
       "['-4917811 5871903\\n',\n",
       " '5067852 966851\\n',\n",
       " '-1276240 -8821238\\n',\n",
       " '8860322 -4383465\\n',\n",
       " '-470814 4950497\\n',\n",
       " '427108 -9309781\\n',\n",
       " '-40433 63374\\n',\n",
       " '8969862 -427109\\n',\n",
       " '4660154 -5687980\\n',\n",
       " '2366835 9542739\\n',\n",
       " '3564954 5007045\\n',\n",
       " '-8415318 3442460\\n',\n",
       " '8074499 8802099\\n',\n",
       " '-3574982 -4488892\\n',\n",
       " '7483206 -8333844\\n',\n",
       " '-2812881 -7434604\\n',\n",
       " '7538059 -7745029\\n',\n",
       " '3532246 -3738181\\n',\n",
       " '-6566267 2392568\\n',\n",
       " '1878354 2962918']"
      ]
     },
     "execution_count": 58,
     "metadata": {},
     "output_type": "execute_result"
    }
   ],
   "source": [
    "contentlines"
   ]
  },
  {
   "cell_type": "code",
   "execution_count": 7,
   "metadata": {},
   "outputs": [],
   "source": [
    "''' function gets an array of strings with 2 numbers in each,\n",
    "    splits each member by the space,\n",
    "    casts them into ints , returns the minimum number of each in another array'''\n",
    "\n",
    "def arr_min(arr):\n",
    "    minarr=[]\n",
    "    strhlp=[]\n",
    "    intarr=[]\n",
    "    for i in range(len(arr)):\n",
    "        strhlp.append(arr[i].split())\n",
    "        #print(strhlp[i])\n",
    "        intarr.append([int(strhlp[i][0]),int(strhlp[i][1])])\n",
    "        #print(intarr[i])\n",
    "        minarr.append(min(intarr[i][0],intarr[i][1]))\n",
    "    return minarr\n",
    "        "
   ]
  },
  {
   "cell_type": "code",
   "execution_count": 17,
   "metadata": {},
   "outputs": [
    {
     "name": "stdout",
     "output_type": "stream",
     "text": [
      "-7048194 -6773628 -8081205 -9388261 -8524154 -489200 -4421195 -4249661 -7319876 -6025732 -7070998 -7335142 4883333 -824626 -4004400 1548758 7127563 1765842 -4586372 2027864 2269534 3981709 2964586 -4496782 1498818 -2457963 -3675603 -3825429 1781111 "
     ]
    }
   ],
   "source": [
    "#print(type(contentlines))\n",
    "arr3=arr_min(contentlines)\n",
    "\n",
    "for i in range(len(contentlines)):\n",
    "    print(arr3[i],end=\" \")"
   ]
  },
  {
   "cell_type": "code",
   "execution_count": null,
   "metadata": {},
   "outputs": [],
   "source": []
  },
  {
   "cell_type": "code",
   "execution_count": 9,
   "metadata": {},
   "outputs": [
    {
     "name": "stdout",
     "output_type": "stream",
     "text": [
      "<class 'list'>\n",
      "str1 = 8954734 -7048194 9065677\n",
      " \n",
      " str2 = ['8954734', '-7048194', '9065677']\n"
     ]
    }
   ],
   "source": [
    "str1=contentlines[0]\n",
    "str2=str1.split()\n",
    "print(type(str2))\n",
    "print('str1 =', str1,'\\n','str2 =', str2)\n"
   ]
  },
  {
   "cell_type": "code",
   "execution_count": 10,
   "metadata": {},
   "outputs": [],
   "source": [
    "str3=[int(str2[0]),int(str2[1])]"
   ]
  },
  {
   "cell_type": "raw",
   "metadata": {},
   "source": [
    "str3"
   ]
  },
  {
   "cell_type": "code",
   "execution_count": 11,
   "metadata": {},
   "outputs": [
    {
     "data": {
      "text/plain": [
       "[8954734, -7048194]"
      ]
     },
     "execution_count": 11,
     "metadata": {},
     "output_type": "execute_result"
    }
   ],
   "source": [
    "str3"
   ]
  },
  {
   "cell_type": "code",
   "execution_count": 12,
   "metadata": {},
   "outputs": [
    {
     "data": {
      "text/plain": [
       "int"
      ]
     },
     "execution_count": 12,
     "metadata": {},
     "output_type": "execute_result"
    }
   ],
   "source": [
    "type(str3[1])"
   ]
  },
  {
   "cell_type": "code",
   "execution_count": 13,
   "metadata": {},
   "outputs": [
    {
     "data": {
      "text/plain": [
       "-7048194"
      ]
     },
     "execution_count": 13,
     "metadata": {},
     "output_type": "execute_result"
    }
   ],
   "source": [
    "min(str3[0],str3[1])"
   ]
  },
  {
   "cell_type": "code",
   "execution_count": 29,
   "metadata": {},
   "outputs": [],
   "source": [
    "with open('codeabbey\\prob5.txt',mode='r') as prob5:\n",
    "        contentlines5 = prob5.readlines()"
   ]
  },
  {
   "cell_type": "code",
   "execution_count": 30,
   "metadata": {},
   "outputs": [
    {
     "data": {
      "text/plain": [
       "26"
      ]
     },
     "execution_count": 30,
     "metadata": {},
     "output_type": "execute_result"
    }
   ],
   "source": [
    "len(contentlines5)"
   ]
  },
  {
   "cell_type": "code",
   "execution_count": 31,
   "metadata": {},
   "outputs": [],
   "source": [
    "def arr_min3(arr):\n",
    "    minarr=[]\n",
    "    strhlp=[]\n",
    "    intarr=[]\n",
    "    for i in range(len(arr)):\n",
    "        strhlp.append(arr[i].split())\n",
    "        #print(strhlp[i])\n",
    "        intarr.append([int(strhlp[i][0]),int(strhlp[i][1]),int(strhlp[i][2])])\n",
    "        #print(intarr[i])\n",
    "        minarr.append(min(intarr[i][0],intarr[i][1],intarr[i][2]))\n",
    "    return minarr"
   ]
  },
  {
   "cell_type": "code",
   "execution_count": 32,
   "metadata": {},
   "outputs": [
    {
     "name": "stdout",
     "output_type": "stream",
     "text": [
      "-5520010 -5009068 -2814559 -5375420 -924030 -5033308 -8022466 -3628003 -4904198 8262509 -3963458 1027473 -7547445 -6852187 -4217736 748956 152541 -5336805 177469 -4756832 -4806610 -2214300 -7742596 -8493227 -2829115 -102189 "
     ]
    }
   ],
   "source": [
    "#print(type(contentlines))\n",
    "arr3=arr_min3(contentlines5)\n",
    "\n",
    "for i in range(len(contentlines5)):\n",
    "    print(arr3[i],end=\" \")"
   ]
  },
  {
   "cell_type": "code",
   "execution_count": 1,
   "metadata": {},
   "outputs": [],
   "source": [
    "'''prob 5 : return the min and max of a series'''\n",
    "with open('codeabbey\\prob5.txt',mode='r') as prob5:\n",
    "        contentlines6 = prob5.read()\n",
    "        nums_str=contentlines6.split()"
   ]
  },
  {
   "cell_type": "code",
   "execution_count": 2,
   "metadata": {},
   "outputs": [],
   "source": [
    "#nums_str"
   ]
  },
  {
   "cell_type": "code",
   "execution_count": 3,
   "metadata": {},
   "outputs": [
    {
     "data": {
      "text/plain": [
       "300"
      ]
     },
     "execution_count": 3,
     "metadata": {},
     "output_type": "execute_result"
    }
   ],
   "source": [
    "len(nums_str)\n"
   ]
  },
  {
   "cell_type": "code",
   "execution_count": 4,
   "metadata": {},
   "outputs": [],
   "source": [
    "def str_to_int(arr):\n",
    "    intarr=[]\n",
    "    for i in range(len(arr)):        \n",
    "        intarr.append(int(arr[i]))\n",
    "        \n",
    "    return intarr"
   ]
  },
  {
   "cell_type": "code",
   "execution_count": 5,
   "metadata": {},
   "outputs": [],
   "source": [
    "int_arr=str_to_int(nums_str)\n",
    "def min_max(arr):\n",
    "    arr.sort()\n",
    "    return [arr[-1],arr[0]]"
   ]
  },
  {
   "cell_type": "code",
   "execution_count": 6,
   "metadata": {},
   "outputs": [
    {
     "data": {
      "text/plain": [
       "300"
      ]
     },
     "execution_count": 6,
     "metadata": {},
     "output_type": "execute_result"
    }
   ],
   "source": [
    "len(int_arr)"
   ]
  },
  {
   "cell_type": "markdown",
   "metadata": {},
   "source": []
  },
  {
   "cell_type": "code",
   "execution_count": 7,
   "metadata": {},
   "outputs": [
    {
     "data": {
      "text/plain": [
       "[78960, -78807]"
      ]
     },
     "execution_count": 7,
     "metadata": {},
     "output_type": "execute_result"
    }
   ],
   "source": [
    "min_max(int_arr)"
   ]
  },
  {
   "cell_type": "code",
   "execution_count": 8,
   "metadata": {},
   "outputs": [
    {
     "name": "stdout",
     "output_type": "stream",
     "text": [
      "78960 -78807\n"
     ]
    }
   ],
   "source": [
    "print(min_max(int_arr)[0],min_max(int_arr)[1])"
   ]
  },
  {
   "cell_type": "code",
   "execution_count": 43,
   "metadata": {},
   "outputs": [
    {
     "name": "stdout",
     "output_type": "stream",
     "text": [
      "['3482057 796\\n', '16385 706\\n', '6880541 584\\n', '9279 1546\\n', '2394219 517\\n', '-1815749 1427726\\n', '14305 576\\n', '4801 670\\n', '9489593 57\\n', '5522138 -4907373\\n', '8034613 -2149532\\n', '7681319 59\\n', '9157773 2123893\\n', '6651473 43\\n', '14259 714\\n', '2825105 606\\n', '19445 800']\n"
     ]
    }
   ],
   "source": [
    "'''problem 6 : Rounding'''\n",
    "\n",
    "import math\n",
    "'''12 8\n",
    "11 -3\n",
    "400 5'''\n",
    "\n",
    "\n",
    "\n",
    "\n",
    "''' takes the data from the .text int an array '''\n",
    "with open('codeabbey\\prob6.txt',mode='r') as prob6:\n",
    "        contentlines6 = prob6.readlines()\n",
    "        \n",
    "print(contentlines6)\n",
    "        \n",
    "        \n",
    "\n",
    "        \n",
    "def round_arr(arr):\n",
    "    round_arr=[]\n",
    "    strhlp=[]\n",
    "    intarr=[]\n",
    "    for i in range(len(arr)):\n",
    "        strhlp.append(arr[i].split())\n",
    "        #print(strhlp[i])\n",
    "        intarr.append([int(strhlp[i][0]),int(strhlp[i][1])])\n",
    "        #print(intarr[i])\n",
    "        a=int(strhlp[i][0])\n",
    "        b=int(strhlp[i][1])\n",
    "        print('a= ',a,'b= ',b,'a/b=',a/b)\n",
    "        if abs(a/b)%1 >= 0.5 :\n",
    "            if a>=0 and b>=0:\n",
    "                round_arr.append(int(a/b)+1)\n",
    "            else:\n",
    "                round_arr.append(int(a/b)-1)\n",
    "        else:\n",
    "            round_arr.append(int(a/b))\n",
    "    return round_arr"
   ]
  },
  {
   "cell_type": "code",
   "execution_count": 44,
   "metadata": {},
   "outputs": [
    {
     "name": "stdout",
     "output_type": "stream",
     "text": [
      "a=  3482057 b=  796 a/b= 4374.443467336683\n",
      "a=  16385 b=  706 a/b= 23.208215297450426\n",
      "a=  6880541 b=  584 a/b= 11781.748287671233\n",
      "a=  9279 b=  1546 a/b= 6.001940491591203\n",
      "a=  2394219 b=  517 a/b= 4630.984526112185\n",
      "a=  -1815749 b=  1427726 a/b= -1.2717769375916668\n",
      "a=  14305 b=  576 a/b= 24.835069444444443\n",
      "a=  4801 b=  670 a/b= 7.165671641791045\n",
      "a=  9489593 b=  57 a/b= 166484.08771929826\n",
      "a=  5522138 b=  -4907373 a/b= -1.1252737462589455\n",
      "a=  8034613 b=  -2149532 a/b= -3.7378429351133176\n",
      "a=  7681319 b=  59 a/b= 130191.84745762713\n",
      "a=  9157773 b=  2123893 a/b= 4.311786422385685\n",
      "a=  6651473 b=  43 a/b= 154685.41860465117\n",
      "a=  14259 b=  714 a/b= 19.970588235294116\n",
      "a=  2825105 b=  606 a/b= 4661.889438943895\n",
      "a=  19445 b=  800 a/b= 24.30625\n",
      "17\n",
      "4374  23  11782  6  4631  -1  25  7  166484  -1  -4  130192  4  154685  20  4662  24  "
     ]
    }
   ],
   "source": [
    "#round_arr(contentlines6)\n",
    "nmstr=round_arr(contentlines6)\n",
    "print(len(nmstr))\n",
    "for i in range(len(nmstr)):\n",
    "    print(nmstr[i],' ',end='')"
   ]
  },
  {
   "cell_type": "code",
   "execution_count": 45,
   "metadata": {},
   "outputs": [
    {
     "name": "stdout",
     "output_type": "stream",
     "text": [
      "-0.12486586849095464\n"
     ]
    },
    {
     "data": {
      "text/plain": [
       "0.8751341315090454"
      ]
     },
     "execution_count": 45,
     "metadata": {},
     "output_type": "execute_result"
    }
   ],
   "source": [
    "print((125558 /-1005543))\n",
    "(125558 /-1005543)%1\n"
   ]
  },
  {
   "cell_type": "code",
   "execution_count": 31,
   "metadata": {},
   "outputs": [
    {
     "name": "stdout",
     "output_type": "stream",
     "text": [
      "5\n"
     ]
    }
   ],
   "source": [
    "print(math.ceil(4.2))"
   ]
  },
  {
   "cell_type": "code",
   "execution_count": 10,
   "metadata": {},
   "outputs": [],
   "source": [
    "#loading prob5.txt from code abbey\n",
    "import numpy as np\n",
    "test_arr5 = np.loadtxt('codeabbey\\prob5.txt')"
   ]
  },
  {
   "cell_type": "code",
   "execution_count": 72,
   "metadata": {
    "scrolled": true
   },
   "outputs": [
    {
     "name": "stdout",
     "output_type": "stream",
     "text": [
      "179 240 307 281 81 49 114 173 144 46 253 125 281 149 15 70 216 267 309 54 289 219 56 84 289 182 277 12 42 236 262 222 160 252 188 241 302 302 "
     ]
    }
   ],
   "source": [
    "#prob 7 farenheit to celsius : (32°F − 32) × 5/9 = 0°C\n",
    "import numpy as np\n",
    "farenheit_arr=np.loadtxt('codeabbey\\prob7.txt')\n",
    "celsius_arr=((farenheit_arr - 32)*(5/9))\n",
    "ans_arr= np.where(celsius_arr%1<0.5,np.floor(celsius_arr),np.ceil(celsius_arr))\n",
    "for i in range(len(ans_arr)):\n",
    "    print(int(ans_arr[i]),end=' ')"
   ]
  },
  {
   "cell_type": "code",
   "execution_count": 90,
   "metadata": {
    "scrolled": true
   },
   "outputs": [
    {
     "name": "stdout",
     "output_type": "stream",
     "text": [
      "11 9 10 13 9 14 10 11 12 9 6 9 14 10 10 13 12 "
     ]
    }
   ],
   "source": [
    "#prob 20 - vowel count in string\n",
    "\n",
    "with open('codeabbey\\prob20.txt',mode='r') as prob8:\n",
    "        contentlines8 = prob8.readlines()\n",
    "vowels =['a','e','i','o','u','y']\n",
    "count_arr = []\n",
    "\n",
    "for i in range(len(contentlines8)):\n",
    "    count_letter = 0\n",
    "    for j in range(len(contentlines8[i])):\n",
    "        if contentlines8[i][j] in vowels:\n",
    "            count_letter+=1\n",
    "    count_arr.append(count_letter)\n",
    "    \n",
    "for i in range(len(count_arr)):\n",
    "    print(count_arr[i],end=' ')"
   ]
  },
  {
   "cell_type": "code",
   "execution_count": 89,
   "metadata": {},
   "outputs": [
    {
     "data": {
      "text/plain": [
       "[11, 9, 10, 13, 9, 14, 10, 11, 12, 9, 6, 9, 14, 10, 10, 13, 12]"
      ]
     },
     "execution_count": 89,
     "metadata": {},
     "output_type": "execute_result"
    }
   ],
   "source": [
    "count_arr"
   ]
  },
  {
   "cell_type": "code",
   "execution_count": 81,
   "metadata": {},
   "outputs": [
    {
     "name": "stdout",
     "output_type": "stream",
     "text": [
      "24 23 27 33 25 20 27 18 17 27 18 32 "
     ]
    }
   ],
   "source": [
    "'''prob 11 -  sum of digits: for each case you need to multiply A by B and add C (i.e. A * B + C) - \n",
    "then calculate sum of digits of the result\n",
    "'''\n",
    "import numpy as np\n",
    "sum_arr=[]\n",
    "arr1 = np.loadtxt('codeabbey\\prob11.txt')\n",
    "#------------------\n",
    "for i in range(len(arr1)):\n",
    "    mult =  1\n",
    "    for j in range(len(arr1[i])-1):\n",
    "        mult*=arr1[i][j]\n",
    "        \n",
    "    sum_arr.append(mult+arr1[i][-1])    \n",
    "\n",
    "#---------------------\n",
    "sum2=[]\n",
    "for k in range(len(sum_arr)):    \n",
    "    sum2.append(dig_arr(sum_arr[k]))\n",
    "    \n",
    "#-----------------------\n",
    "def dig_arr(num):\n",
    "    num1 = num\n",
    "    exp =0\n",
    "    digit = []\n",
    "    while num1 != 0:\n",
    "        exp+=1\n",
    "        digit.append(num1%10)\n",
    "        num1 = int(num1/10)        \n",
    "            \n",
    "    return sum(digit[::-1])\n",
    "\n",
    "#-----------------------\n",
    "for i in range(len(sum2)):\n",
    "    print(int(sum2[i]),end=' ')\n",
    "\n",
    "\n",
    "\n",
    "\n"
   ]
  },
  {
   "cell_type": "code",
   "execution_count": null,
   "metadata": {},
   "outputs": [],
   "source": []
  },
  {
   "cell_type": "code",
   "execution_count": 85,
   "metadata": {},
   "outputs": [
    {
     "data": {
      "text/plain": [
       "3826200.0"
      ]
     },
     "execution_count": 85,
     "metadata": {},
     "output_type": "execute_result"
    }
   ],
   "source": [
    "num = 3826410.0\n",
    "\n",
    "int(num/10**6)\n",
    "num - int(num/10**6)*10*7"
   ]
  },
  {
   "cell_type": "code",
   "execution_count": 28,
   "metadata": {},
   "outputs": [
    {
     "data": {
      "text/plain": [
       "array([ 9025., 75076., 21609.])"
      ]
     },
     "execution_count": 28,
     "metadata": {},
     "output_type": "execute_result"
    }
   ],
   "source": [
    "arr1[0]*arr1[0]"
   ]
  },
  {
   "cell_type": "code",
   "execution_count": 29,
   "metadata": {},
   "outputs": [
    {
     "data": {
      "text/plain": [
       "3"
      ]
     },
     "execution_count": 29,
     "metadata": {},
     "output_type": "execute_result"
    }
   ],
   "source": [
    "len(arr1[0])"
   ]
  },
  {
   "cell_type": "code",
   "execution_count": 51,
   "metadata": {},
   "outputs": [],
   "source": [
    "\n",
    "        \n",
    "   "
   ]
  },
  {
   "cell_type": "code",
   "execution_count": 52,
   "metadata": {},
   "outputs": [
    {
     "data": {
      "text/plain": [
       "3"
      ]
     },
     "execution_count": 52,
     "metadata": {},
     "output_type": "execute_result"
    }
   ],
   "source": [
    "9876543%10"
   ]
  },
  {
   "cell_type": "code",
   "execution_count": 53,
   "metadata": {},
   "outputs": [
    {
     "data": {
      "text/plain": [
       "987654"
      ]
     },
     "execution_count": 53,
     "metadata": {},
     "output_type": "execute_result"
    }
   ],
   "source": [
    "int(9876543/10)\n"
   ]
  },
  {
   "cell_type": "code",
   "execution_count": 54,
   "metadata": {},
   "outputs": [
    {
     "data": {
      "text/plain": [
       "30"
      ]
     },
     "execution_count": 54,
     "metadata": {},
     "output_type": "execute_result"
    }
   ],
   "source": [
    "dig_arr(9876)"
   ]
  },
  {
   "cell_type": "code",
   "execution_count": 40,
   "metadata": {},
   "outputs": [],
   "source": [
    "arr1=[1,1,1]\n"
   ]
  },
  {
   "cell_type": "code",
   "execution_count": 42,
   "metadata": {},
   "outputs": [
    {
     "data": {
      "text/plain": [
       "3"
      ]
     },
     "execution_count": 42,
     "metadata": {},
     "output_type": "execute_result"
    }
   ],
   "source": [
    "sum(arr1)"
   ]
  },
  {
   "cell_type": "code",
   "execution_count": 49,
   "metadata": {},
   "outputs": [
    {
     "data": {
      "text/plain": [
       "'\\nprob 8 -Arithmetic Progression\\nInput data: first line contains the number of test-cases.\\nOther lines contain test-cases in form of triplets of values A B N\\nwhere A is the first value of the sequence, B is the step size and N is the number of first values which should be accounted.\\nAnswer: you are to output results (sums of N first members) for each sequence, separated by spaces.\\n'"
      ]
     },
     "execution_count": 49,
     "metadata": {},
     "output_type": "execute_result"
    }
   ],
   "source": [
    "'''\n",
    "prob 8 -Arithmetic Progression\n",
    "Input data: first line contains the number of test-cases.\n",
    "Other lines contain test-cases in form of triplets of values A B N\n",
    "where A is the first value of the sequence, B is the step size and N is the number of first values which should be accounted.\n",
    "Answer: you are to output results (sums of N first members) for each sequence, separated by spaces.\n",
    "'''\n"
   ]
  },
  {
   "cell_type": "code",
   "execution_count": 74,
   "metadata": {},
   "outputs": [
    {
     "name": "stdout",
     "output_type": "stream",
     "text": [
      "26838 18619 3249 8075 26214 1484 27768 6549 11550 25662 "
     ]
    }
   ],
   "source": [
    "import numpy as np\n",
    "num_arr = np.loadtxt('codeabbey\\prob8.txt')\n",
    "sum_arr =[]\n",
    "\n",
    "for i in range(len(num_arr)):\n",
    "    sum1=0\n",
    "    start=int(num_arr[i][0])\n",
    "    step=int(num_arr[i][1])\n",
    "    N=int(num_arr[i][2])\n",
    "    j=start\n",
    "    count=0\n",
    "    while count<N:\n",
    "        sum1+=j\n",
    "        j+=step\n",
    "        count+=1\n",
    "    sum_arr.append(sum1)\n",
    "       \n",
    "for i in range(len(sum_arr)):\n",
    "    print(sum_arr[i],end=' ')"
   ]
  },
  {
   "cell_type": "code",
   "execution_count": 96,
   "metadata": {},
   "outputs": [
    {
     "name": "stdout",
     "output_type": "stream",
     "text": [
      "0 0 0 1 1 0 0 1 0 0 0 0 0 0 0 0 1 1 0 0 0 1 1 0 0 1 1 1 0 "
     ]
    }
   ],
   "source": [
    "'''\n",
    "problem 9 - Triangles\n",
    "'''\n",
    "import numpy as np\n",
    "num_arr = np.loadtxt('codeabbey\\prob9.txt')\n",
    "ans_arr =[]\n",
    "for i in range(len(num_arr)):\n",
    "    a=num_arr[i][0]\n",
    "    b=num_arr[i][1]\n",
    "    c=num_arr[i][2]\n",
    "    if   a + b <= c or a + c <=b or b + c <= a :\n",
    "        ans_arr.append(0)\n",
    "    else:\n",
    "        ans_arr.append(1)\n",
    "        \n",
    "for i in range(len(ans_arr)):\n",
    "    print(ans_arr[i],end=' ')\n",
    "    \n"
   ]
  },
  {
   "cell_type": "code",
   "execution_count": 88,
   "metadata": {},
   "outputs": [],
   "source": [
    "deg =math.degrees(math.pi)"
   ]
  },
  {
   "cell_type": "code",
   "execution_count": 46,
   "metadata": {},
   "outputs": [
    {
     "name": "stdout",
     "output_type": "stream",
     "text": [
      "(58, 937) (-27, -906) (80, 173) (91, 716) (-97, -360) (-89, 858) (-59, -350) (41, -239) (-30, -688) (-59, -684) (49, 217) "
     ]
    }
   ],
   "source": [
    "'''problem 10 - Linear Function \n",
    "Your task is to determine a and b by two points, belonging to the function.\n",
    "I.e. you are told two pairs of values (x1, y1), (x2, y2) which satisfy the function equation\n",
    "- and you should restore the equation itself.   y(x) = ax + b\n",
    "'''\n",
    "import numpy as np\n",
    "num_arr = np.loadtxt('codeabbey\\prob10.txt')\n",
    "ans_arr=[]\n",
    "for i in range(len(num_arr)):\n",
    "    x1=num_arr[i][0]\n",
    "    y1=num_arr[i][1]\n",
    "    x2=num_arr[i][2]\n",
    "    y2=num_arr[i][3]\n",
    "    a=(y1-y2)/(x1-x2)\n",
    "    b=y1-a*x1\n",
    "    ans_arr.append((int(a),int(b)))\n",
    "    \n",
    "for i in range(len(ans_arr)):\n",
    "    print(ans_arr[i],sep=' ',end=' ')\n"
   ]
  },
  {
   "cell_type": "code",
   "execution_count": 5,
   "metadata": {},
   "outputs": [
    {
     "data": {
      "text/plain": [
       "[(23.0, -521.0),\n",
       " (52.0, 878.0),\n",
       " (-54.0, 818.0),\n",
       " (43.0, 581.0),\n",
       " (-16.0, -42.0),\n",
       " (-12.0, -559.0),\n",
       " (-20.0, 987.0),\n",
       " (-56.0, -25.0),\n",
       " (45.0, 23.0),\n",
       " (-10.0, -872.0)]"
      ]
     },
     "execution_count": 5,
     "metadata": {},
     "output_type": "execute_result"
    }
   ],
   "source": [
    "ans_arr"
   ]
  },
  {
   "cell_type": "code",
   "execution_count": 159,
   "metadata": {},
   "outputs": [],
   "source": [
    "'''problem 11 - Modulo and time difference'''\n",
    "import datetime\n",
    "import math\n",
    "import numpy as np\n",
    "date_arr = np.loadtxt('codeabbey\\prob12.txt')\n",
    "ans_arr=[]\n",
    "for i in range(len(date_arr)):\n",
    "    d1=date_arr[i][0]\n",
    "    h1=date_arr[i][1]\n",
    "    m1=date_arr[i][2]\n",
    "    s1=date_arr[i][3]\n",
    "    d2=date_arr[i][4]\n",
    "    h2=date_arr[i][5]\n",
    "    m2=date_arr[i][6]\n",
    "    s2=date_arr[i][7]\n",
    "    t1=datetime.timedelta(days=d1,hours=h1,minutes=m1,seconds=s1)\n",
    "    t2=datetime.timedelta(days=d2,hours=h2,minutes=m2,seconds=s2)\n",
    "    if d1>d2 :        \n",
    "        t3=t1-t2\n",
    "        days=t3.days\n",
    "        hours=int(t3.seconds/3600)\n",
    "        h_=t3.seconds/3600\n",
    "        minutes=int(h_%1*60)\n",
    "        seconds=int((h_%1*60-minutes)*60)\n",
    "        ans_arr.append([days,hours,minutes,seconds])\n",
    "    else:\n",
    "        t3=t2-t1\n",
    "        days=t3.days\n",
    "        hours=int(t3.seconds/3600)\n",
    "        h_=t3.seconds/3600\n",
    "        minutes=int(h_%1*60)\n",
    "        seconds=((h_%1*60-minutes)*60)\n",
    "        if (seconds%1)>=0.9:\n",
    "            seconds_ce=math.ceil((h_%1*60-minutes)*60)\n",
    "            ans_arr.append([days,hours,minutes,seconds_ce])\n",
    "        elif seconds%1<=0.1:\n",
    "            seconds_fl=math.floor((h_%1*60-minutes)*60)\n",
    "            ans_arr.append([days,hours,minutes,seconds_fl])\n",
    "            \n",
    "        \n",
    "    \n"
   ]
  },
  {
   "cell_type": "code",
   "execution_count": 160,
   "metadata": {},
   "outputs": [
    {
     "name": "stdout",
     "output_type": "stream",
     "text": [
      "(23 8 5 46) (3 4 56 18) (2 23 22 14) (11 3 0 31) (8 18 31 24) (11 19 59 18) (1 18 48 42) (9 19 2 21) (0 0 1 52) (27 23 59 5) (3 0 25 42) (7 1 51 10) "
     ]
    }
   ],
   "source": [
    "for i in range(len(ans_arr)):\n",
    "    print('(',end='')\n",
    "    for j in range(3):\n",
    "        print(ans_arr[i][j],end=' ')\n",
    "    print(ans_arr[i][3],end='')\n",
    "    print(')',end=' ')"
   ]
  },
  {
   "cell_type": "code",
   "execution_count": 147,
   "metadata": {},
   "outputs": [
    {
     "name": "stdout",
     "output_type": "stream",
     "text": [
      "(0 1 17 7)\n"
     ]
    }
   ],
   "source": [
    "print('(',end='')\n",
    "for i in range(3):\n",
    "    print(ans_arr[0][i],end=' ')\n",
    "print(ans_arr[0][3],end='')\n",
    "print(')')"
   ]
  },
  {
   "cell_type": "code",
   "execution_count": null,
   "metadata": {},
   "outputs": [],
   "source": []
  },
  {
   "cell_type": "code",
   "execution_count": 148,
   "metadata": {},
   "outputs": [
    {
     "data": {
      "text/plain": [
       "17"
      ]
     },
     "execution_count": 148,
     "metadata": {},
     "output_type": "execute_result"
    }
   ],
   "source": [
    "t1=datetime.timedelta(days=3,hours=2,minutes=12,seconds=31)\n",
    "t2=datetime.timedelta(days=14,hours=20,minutes=11,seconds=46)\n",
    "\n",
    "t3=t2-t1\n",
    "#t4=t2-t1\n",
    "hour=int(t3.seconds/3600)\n",
    "hour"
   ]
  },
  {
   "cell_type": "code",
   "execution_count": 149,
   "metadata": {},
   "outputs": [
    {
     "data": {
      "text/plain": [
       "59"
      ]
     },
     "execution_count": 149,
     "metadata": {},
     "output_type": "execute_result"
    }
   ],
   "source": [
    "h_=t3.seconds/3600\n",
    "minutes=int(h_%1*60)\n",
    "minutes"
   ]
  },
  {
   "cell_type": "code",
   "execution_count": 154,
   "metadata": {},
   "outputs": [
    {
     "data": {
      "text/plain": [
       "15.000000000002558"
      ]
     },
     "execution_count": 154,
     "metadata": {},
     "output_type": "execute_result"
    }
   ],
   "source": [
    "seconds=  (h_%1*60-minutes)*60\n",
    "seconds"
   ]
  },
  {
   "cell_type": "code",
   "execution_count": 150,
   "metadata": {},
   "outputs": [
    {
     "data": {
      "text/plain": [
       "16"
      ]
     },
     "execution_count": 150,
     "metadata": {},
     "output_type": "execute_result"
    }
   ],
   "source": [
    "seconds_ce=math.ceil((h_%1*60-minutes)*60)\n",
    "seconds"
   ]
  },
  {
   "cell_type": "code",
   "execution_count": 153,
   "metadata": {},
   "outputs": [
    {
     "data": {
      "text/plain": [
       "15"
      ]
     },
     "execution_count": 153,
     "metadata": {},
     "output_type": "execute_result"
    }
   ],
   "source": [
    "seconds_fl=math.floor((h_%1*60-minutes)*60)\n",
    "seconds_fl"
   ]
  },
  {
   "cell_type": "code",
   "execution_count": 36,
   "metadata": {},
   "outputs": [
    {
     "name": "stdout",
     "output_type": "stream",
     "text": [
      "205 66 101 41 11 78 188 146 18 48 119 59 71 86 147 50 18 75 28 93 151 62 204 21 16 78 216 51 38 87 168 110 54 "
     ]
    }
   ],
   "source": [
    "'''Problem #13 Weighted sum of digits\n",
    "wsd(1776) = 1 * 1 + 7 * 2 + 7 * 3 + 6 * 4 = 60\n",
    "'''\n",
    "import numpy as np\n",
    "num_arr = np.loadtxt('codeabbey\\prob13.txt')\n",
    "ans_arr=[]\n",
    "for j in range(len(num_arr)):\n",
    "    num=int(num_arr[j])\n",
    "    ans_arr.append(dig_arr_wsd(num))\n",
    "#--------------\n",
    "def dig_arr_wsd(num):\n",
    "    num1 = num\n",
    "    exp =0\n",
    "    digit = []\n",
    "    wsd_sum =0\n",
    "    while num1 != 0:\n",
    "        exp+=1\n",
    "        digit.append(num1%10)\n",
    "        num1 = int(num1/10)    \n",
    "    \n",
    "    for i in range(len(digit)):\n",
    "        wsd_sum+=digit[i]*exp\n",
    "        exp-=1\n",
    "                \n",
    "            \n",
    "    return wsd_sum\n",
    "#---------------\n",
    "\n",
    "for i in range(len(ans_arr)):\n",
    "    print(ans_arr[i],end=' ')\n",
    "\n",
    "    "
   ]
  },
  {
   "cell_type": "code",
   "execution_count": 20,
   "metadata": {},
   "outputs": [
    {
     "name": "stdout",
     "output_type": "stream",
     "text": [
      "26\n",
      "80 177 1239 220 695 974 92 101 42 430 87 1468 25 17 743 302 80 13 48 790 95 74 10 602 871 1096 "
     ]
    }
   ],
   "source": [
    "'''problem 41 - find the middle number'''\n",
    "import numpy as np\n",
    "num_arr = np.loadtxt('codeabbey\\prob41.txt')\n",
    "ans_arr=[]\n",
    "mid=0\n",
    "for i in range(len(num_arr)):\n",
    "    num_arr[i].sort()\n",
    "    mid=int(num_arr[i][1])\n",
    "    ans_arr.append(mid)\n",
    "\n",
    "print(len(ans_arr),end='\\n')\n",
    "    \n",
    "for k in range(len(ans_arr)):\n",
    "    print(ans_arr[k],end=' ')\n",
    "    "
   ]
  },
  {
   "cell_type": "code",
   "execution_count": 23,
   "metadata": {},
   "outputs": [
    {
     "name": "stdout",
     "output_type": "stream",
     "text": [
      "29\n",
      "obese over over normal under over normal obese normal normal normal normal obese under normal over obese under under under normal normal normal obese under over under obese under "
     ]
    }
   ],
   "source": [
    "'''probelm 28- Body Mass Index BMI = weight / height^2'''\n",
    "'''\n",
    "Underweight     -           BMI < 18.5\n",
    "Normal weight   -   18.5 <= BMI < 25.0\n",
    "Overweight      -   25.0 <= BMI < 30.0\n",
    "Obesity         -   30.0 <= BMI\n",
    "'''\n",
    "import numpy as np\n",
    "num_arr = np.loadtxt('codeabbey\\prob28.txt')\n",
    "ans_arr=['under','normal','over','obese']\n",
    "answer =[]\n",
    "bmi=float\n",
    "for i in range(len(num_arr)):\n",
    "    bmi = num_arr[i][0]/(num_arr[i][1]**2)\n",
    "    if bmi<18.5:\n",
    "        answer.append(ans_arr[0])\n",
    "    elif 18.5<=bmi<25:\n",
    "        answer.append(ans_arr[1])\n",
    "    elif 25<=bmi<30:\n",
    "        answer.append(ans_arr[2])\n",
    "    else:\n",
    "        answer.append(ans_arr[3])\n",
    "        \n",
    "print(len(answer),end='\\n')\n",
    "    \n",
    "for k in range(len(answer)):\n",
    "    print(answer[k],end=' ')    "
   ]
  },
  {
   "cell_type": "code",
   "execution_count": 43,
   "metadata": {
    "scrolled": true
   },
   "outputs": [
    {
     "name": "stdout",
     "output_type": "stream",
     "text": [
      "7668 136 314 4070 116 190 905 7342 4522 1987 6557 8546 151 3366 len = 14\n"
     ]
    }
   ],
   "source": [
    "'''probelm 16 - Average'''\n",
    "import numpy as np\n",
    "import math\n",
    "\n",
    "#-----------------\n",
    "#this function takes an array of numbs in a string seperated by a space,\n",
    "#converts it to a an int array and returns the average\n",
    "def int_arr_func(nums_arr):   \n",
    "    #nums_arr=(num_arr[0])\n",
    "    arr1=nums_arr.split()\n",
    "    ints=[]\n",
    "    sum1=0\n",
    "    for i in range(len(arr1)):\n",
    "        ints.append(int(arr1[i]))        \n",
    "        \n",
    "    avg1=np.sum(ints)/(len(arr1)-1)\n",
    "    if avg1%1<0.5:\n",
    "        avg1=int(avg1)\n",
    "    elif avg1%1>=0.5:\n",
    "        avg1=int(avg1)+1     \n",
    "    return avg1\n",
    "#---------------\n",
    "with open('codeabbey\\prob16.txt',mode='r') as prob16:\n",
    "        num_arr = prob16.readlines()\n",
    "int_arr=[]\n",
    "avgs=[]\n",
    "for i in range(len(num_arr)):\n",
    "    avgs.append(int_arr_func(num_arr[i]))\n",
    "    \n",
    "for k in range(len(avgs)):\n",
    "    print(avgs[k],end=' ')\n",
    "print('len =',len(avgs))"
   ]
  },
  {
   "cell_type": "code",
   "execution_count": 39,
   "metadata": {},
   "outputs": [],
   "source": [
    "def int_arr_func1(nums_arr):   \n",
    "    #nums_arr=(num_arr[0])\n",
    "    arr1=nums_arr.split()\n",
    "    ints=[]\n",
    "    \n",
    "    for i in range(len(arr1)):\n",
    "        ints.append(int(arr1[i]))        \n",
    "    \n",
    "    avg=np.sum(ints)/(len(ints)-1)\n",
    "    \n",
    "    if avg%1<0.5:\n",
    "        avg=int(avg)\n",
    "    elif avg%1>=0.5:\n",
    "        avg=int(avg)+1\n",
    "    \n",
    "    print('avg= ',avg)\n",
    "    return ints"
   ]
  },
  {
   "cell_type": "code",
   "execution_count": 40,
   "metadata": {},
   "outputs": [
    {
     "name": "stdout",
     "output_type": "stream",
     "text": [
      "avg=  9614\n"
     ]
    },
    {
     "data": {
      "text/plain": [
       "[1919, 8149, 13742, 13591, 2623, 15083, 12905, 1832, 10959, 9497, 15458, 0]"
      ]
     },
     "execution_count": 40,
     "metadata": {},
     "output_type": "execute_result"
    }
   ],
   "source": [
    "nums_arr=(num_arr[1])\n",
    "int_arr_func1(nums_arr)"
   ]
  },
  {
   "cell_type": "code",
   "execution_count": 38,
   "metadata": {},
   "outputs": [
    {
     "name": "stdout",
     "output_type": "stream",
     "text": [
      "avg=  9613\n",
      "9614.363636363636/n"
     ]
    },
    {
     "data": {
      "text/plain": [
       "0.3636363636360329"
      ]
     },
     "execution_count": 38,
     "metadata": {},
     "output_type": "execute_result"
    }
   ],
   "source": [
    "test_int_arr=int_arr_func1(nums_arr)\n",
    "print(np.mean(test_int_arr[:-1]),end='/n')\n",
    "np.mean(test_int_arr[:-1])%1"
   ]
  },
  {
   "cell_type": "code",
   "execution_count": 35,
   "metadata": {},
   "outputs": [
    {
     "data": {
      "text/plain": [
       "[1919, 8149, 13742, 13591, 2623, 15083, 12905, 1832, 10959, 9497, 15458, 0]"
      ]
     },
     "execution_count": 35,
     "metadata": {},
     "output_type": "execute_result"
    }
   ],
   "source": [
    "test_int_arr"
   ]
  },
  {
   "cell_type": "code",
   "execution_count": 5,
   "metadata": {},
   "outputs": [
    {
     "name": "stdout",
     "output_type": "stream",
     "text": [
      "2 1 5 1 6 3 4 3 4 6 2 6 1 6 5 5 5 6 4 3 4 1 6 6 3 4 "
     ]
    }
   ],
   "source": [
    "'''problem #43 - Dice Rolling'''\n",
    "import numpy as np\n",
    "num_arr = np.loadtxt('codeabbey\\prob43.txt')\n",
    "ans_arr=[]\n",
    "for i in range(len(num_arr)):\n",
    "    num=int(num_arr[i]*6)\n",
    "    num+=1\n",
    "    ans_arr.append(num)\n",
    "\n",
    "for j in range(len(ans_arr)):\n",
    "    print(ans_arr[j],end=' ')\n",
    "    "
   ]
  },
  {
   "cell_type": "code",
   "execution_count": 97,
   "metadata": {},
   "outputs": [
    {
     "name": "stdout",
     "output_type": "stream",
     "text": [
      "1   result=  113\n",
      "2   result=  12995\n",
      "3   result=  1468774\n",
      "4   result=  5971802\n",
      "5   result=  4813722\n",
      "6   result=  3950886\n",
      "3950886 [1, 2, 3, 4, 5, 6]\n"
     ]
    }
   ],
   "source": [
    "'''problem 17 - checksum'''\n",
    "import numpy as np\n",
    "#num_arr = np.loadtxt('codeabbey\\prob17.txt')\n",
    "num_arr= [1, 2, 3, 4,5, 6]\n",
    "result=0\n",
    "ans_arr=[]\n",
    "for i in range(len(num_arr)):\n",
    "    result=(result+num_arr[i])*113\n",
    "    result=result%10000007\n",
    "    print(num_arr[i],'  result= ',result)\n",
    "print(int(result),end=' ')\n",
    "print(num_arr)"
   ]
  },
  {
   "cell_type": "code",
   "execution_count": 40,
   "metadata": {},
   "outputs": [
    {
     "data": {
      "text/plain": [
       "'tnecsednacni ffo yats peek evots flehs nrut nwolc sutcac yhw'"
      ]
     },
     "execution_count": 40,
     "metadata": {},
     "output_type": "execute_result"
    }
   ],
   "source": [
    "'''problem 30 - reverse string'''\n",
    "str ='why cactus clown turn shelf stove keep stay off incandescent'\n",
    "str[::-1]"
   ]
  },
  {
   "cell_type": "code",
   "execution_count": 63,
   "metadata": {},
   "outputs": [
    {
     "name": "stdout",
     "output_type": "stream",
     "text": [
      "29 25 17 19 28 15 24 26 26 23 33 18 20 23 17 27 23 "
     ]
    },
    {
     "data": {
      "text/plain": [
       "17"
      ]
     },
     "execution_count": 63,
     "metadata": {},
     "output_type": "execute_result"
    }
   ],
   "source": [
    "'''Problem #21 - Array Counters'''\n",
    "import numpy as np\n",
    "num_arr = np.loadtxt('codeabbey\\prob21.txt')\n",
    "max_n=int(num_arr.max())\n",
    "ans_arr=[]\n",
    "int_arr=[]\n",
    "for i in range(len(num_arr)):\n",
    "    int_arr.append(int(num_arr[i]))\n",
    "\n",
    "for k in range(1,max_n+1):\n",
    "    ans_arr.append(int_arr.count(k))\n",
    "\n",
    "for j in range(len(ans_arr)):\n",
    "    print(ans_arr[j],end=' ')\n",
    "    \n",
    "len(ans_arr)"
   ]
  },
  {
   "cell_type": "code",
   "execution_count": 51,
   "metadata": {},
   "outputs": [
    {
     "data": {
      "text/plain": [
       "4"
      ]
     },
     "execution_count": 51,
     "metadata": {},
     "output_type": "execute_result"
    }
   ],
   "source": [
    "ar=[1,1,1,1,1,3,4,5,5,5,5,]\n",
    "ar.count(5)"
   ]
  },
  {
   "cell_type": "code",
   "execution_count": 8,
   "metadata": {},
   "outputs": [
    {
     "name": "stdout",
     "output_type": "stream",
     "text": [
      "6 21 99 34 46 141 111 54 114 106 104 21 23 48 51 29 30 38 35 47 21 "
     ]
    }
   ],
   "source": [
    "'''problem 48 -Collatz Sequence'''\n",
    "\n",
    "def collatz(num):    \n",
    "    count=0\n",
    "    while num>1:\n",
    "        if num%2==0:\n",
    "            num/=2\n",
    "            count+=1\n",
    "        else:\n",
    "            num= num*3 + 1\n",
    "            count+=1\n",
    "            \n",
    "    return count\n",
    "\n",
    "#-------------------------------------\n",
    "import numpy as np\n",
    "num_arr = np.loadtxt('codeabbey\\prob48.txt')\n",
    "ans_arr=[]\n",
    "for i,num in enumerate(num_arr):\n",
    "    ans_arr.append(collatz(num))\n",
    "\n",
    "for i,num in enumerate(ans_arr):\n",
    "    print(num,end=' ')"
   ]
  },
  {
   "cell_type": "code",
   "execution_count": 18,
   "metadata": {
    "scrolled": true
   },
   "outputs": [
    {
     "name": "stdout",
     "output_type": "stream",
     "text": [
      "first= 7\n",
      "1002\n"
     ]
    }
   ],
   "source": [
    "'''problem 14 - '''\n",
    "import numpy as np\n",
    "str_arr = np.loadtxt('codeabbey\\prob14.txt',dtype='str')\n",
    "first=int(str_arr[0][1])\n",
    "print('first=',first)\n",
    "final_number= int\n",
    "for i in range(1,len(str_arr)):\n",
    "    sign=str_arr[i][0]\n",
    "    num=int(str_arr[i][1])\n",
    "    if '+' in sign:\n",
    "        first+=num\n",
    "    elif '-' in sign:\n",
    "        first-=num\n",
    "    elif '*' in sign:\n",
    "        first*=num\n",
    "    else:\n",
    "        final_number = first%num\n",
    "        \n",
    "print(final_number)\n",
    "        "
   ]
  },
  {
   "cell_type": "code",
   "execution_count": 36,
   "metadata": {},
   "outputs": [
    {
     "name": "stdout",
     "output_type": "stream",
     "text": [
      "[ 1.  2.  3.  4.  5.  6.  7.  8.  9. 10. 11. 12. 13. 14. 15. 16. 17. 18.\n",
      " 19. 20. 21.] 18 130\n"
     ]
    }
   ],
   "source": [
    "'''Problem 27 - Bubble sort'''\n",
    "import numpy as np\n",
    "\n",
    "    \n",
    "#========================\n",
    "# returns the array with one sorted pair\n",
    "def bbl_sort(arr):\n",
    "    for i in range(len(arr)-1):\n",
    "        if arr[i]>arr[i+1]:\n",
    "            t=arr[i]\n",
    "            arr[i]=arr[i+1]\n",
    "            arr[i+1]=t            \n",
    "            break           \n",
    "    return arr\n",
    "#=====================\n",
    "def sorted_arr(arr):\n",
    "    flag=True\n",
    "    for i in range(len(arr)-1):        \n",
    "        if arr[i]>arr[i+1]:\n",
    "            flag=False\n",
    "    return flag\n",
    "    \n",
    "#===========================\n",
    "'''\n",
    "num_arr = np.loadtxt('codeabbey\\prob27.txt')\n",
    "#13 61\n",
    "swap=0\n",
    "passes=0\n",
    "i=0\n",
    "test=num_arr\n",
    "while i<(len(test)-1):\n",
    "    if test[i]>test[i+1]:\n",
    "        bbl_sort(test)\n",
    "        passes+=1\n",
    "        i=0\n",
    "    else:\n",
    "        i+=1\n",
    "'''\n",
    "\n",
    "#test2=[3,1,4,1,5,9,2,6]\n",
    "test2=np.loadtxt('codeabbey\\prob27.txt')\n",
    "k=0\n",
    "passes=0\n",
    "swap=0\n",
    "while not sorted_arr(test2):\n",
    "    while k<(len(test2)-1):\n",
    "        if test2[k]>test2[k+1]:\n",
    "            swp=test2[k]\n",
    "            test2[k]=test2[k+1]\n",
    "            test2[k+1]=swp\n",
    "            swap+=1\n",
    "            k+=2\n",
    "        else:\n",
    "            k+=1\n",
    "    \n",
    "    if not sorted_arr(test2):\n",
    "        k=0\n",
    "        passes+=1    \n",
    "        \n",
    "print(test2,passes,swap)\n",
    "#bbl_sort(test)\n",
    "    \n",
    "#print(test,swap-1,passes)\n"
   ]
  },
  {
   "cell_type": "code",
   "execution_count": 5,
   "metadata": {},
   "outputs": [
    {
     "name": "stdout",
     "output_type": "stream",
     "text": [
      "(66 73260) (1 1236) (1 657) (1 54351) (51 376992) (183 93330) (118 111274) (1 70) (52 54912) (68 198220) (43 7826) (4 86480) (938 2814) (73 425152) (118 91922) (1 9135) (1 27890) "
     ]
    }
   ],
   "source": [
    "'''problem #26 - Greatest Common Divisor'''\n",
    "import numpy as np\n",
    "nums = np.loadtxt('codeabbey\\prob26.txt')\n",
    "#nums=[[25,35],[17,34],[13,28],[2,3],[4,10]]\n",
    "ans_arr=[]\n",
    "for i in range(len(nums)):\n",
    "    #print('\\n','the pair is :',nums[i],'\\n')\n",
    "    num1=nums[i][0]\n",
    "    num2=nums[i][1]\n",
    "    while nums[i][0]!=nums[i][1]:\n",
    "        mx=max(nums[i][0],nums[i][1])\n",
    "        mn=min(nums[i][0],nums[i][1])\n",
    "        #print('mx=',mx,'  mn=',mn)\n",
    "        if mx == nums[i][0]:\n",
    "            nums[i][0]-=mn\n",
    "        elif mx == nums[i][1]:\n",
    "            nums[i][1]-=mn\n",
    "    gcd=int(nums[i][0])\n",
    "    lcm=int(num1*num2/gcd)\n",
    "    ans_arr.append([gcd,lcm])\n",
    "    \n",
    "for i in range(len(ans_arr)):\n",
    "    print('(',end='')\n",
    "    for j in range(1):\n",
    "        print(ans_arr[i][j],end=' ')\n",
    "    print(ans_arr[i][1],end='')\n",
    "    print(')',end=' ')\n",
    "        "
   ]
  },
  {
   "cell_type": "code",
   "execution_count": 89,
   "metadata": {},
   "outputs": [],
   "source": [
    "'''probelm 29 - Sort with Indexes'''\n",
    "from pandas import Series\n",
    "nums = Series(np.loadtxt('codeabbey\\prob29.txt'))\n",
    "index_arr=nums.sort_values().index"
   ]
  },
  {
   "cell_type": "code",
   "execution_count": 90,
   "metadata": {},
   "outputs": [
    {
     "name": "stdout",
     "output_type": "stream",
     "text": [
      "20 4 11 10 12 2 8 7 6 15 3 9 1 5 13 18 14 19 17 16 "
     ]
    }
   ],
   "source": [
    "for i in range(len(index_arr)):\n",
    "    print(index_arr[i]+1,end=' ')"
   ]
  },
  {
   "cell_type": "code",
   "execution_count": 135,
   "metadata": {},
   "outputs": [
    {
     "name": "stdout",
     "output_type": "stream",
     "text": [
      "N Y N N N N N N Y N Y Y N N Y "
     ]
    }
   ],
   "source": [
    "'''problem 50 - palindromes'''\n",
    "with open('codeabbey\\prob50.txt',mode='r') as prob50:\n",
    "        palin = prob50.readlines()     \n",
    "ans_arr=[]\n",
    "separator=''\n",
    "for i in range(len(palin)):    \n",
    "    arr1=palin[i].lower()    \n",
    "    arr1=arr1.replace('-',' ',-1)\n",
    "    arr1=arr1.replace(',',' ',-1)\n",
    "    arr1=arr1.split()\n",
    "    arr1=separator.join(arr1)    \n",
    "    arr2=arr1[::-1]            \n",
    "    if arr1==arr2:\n",
    "        ans_arr.append('Y')\n",
    "    else:\n",
    "        ans_arr.append('N')\n",
    "        \n",
    "\n",
    "for k in range(len(ans_arr)):\n",
    "    print(ans_arr[k],end=' ')\n",
    "               "
   ]
  },
  {
   "cell_type": "code",
   "execution_count": 100,
   "metadata": {},
   "outputs": [],
   "source": [
    "a=a.replace(',',' ',-1)"
   ]
  },
  {
   "cell_type": "code",
   "execution_count": 105,
   "metadata": {},
   "outputs": [
    {
     "data": {
      "text/plain": [
       "['y', 'e', 'qnlj', 'vjj', 'vjl', 'n', 'l', 'ey']"
      ]
     },
     "execution_count": 105,
     "metadata": {},
     "output_type": "execute_result"
    }
   ],
   "source": [
    "separetor=''\n",
    "a=a.split()\n",
    "a"
   ]
  },
  {
   "cell_type": "code",
   "execution_count": 111,
   "metadata": {},
   "outputs": [
    {
     "name": "stdout",
     "output_type": "stream",
     "text": [
      " yeqnljvjjvjlnley \n",
      " yelnljvjjvjlnqey\n"
     ]
    }
   ],
   "source": [
    "a=separetor.join(a)\n",
    "print('',a,'\\n',a[::-1])"
   ]
  },
  {
   "cell_type": "code",
   "execution_count": 59,
   "metadata": {},
   "outputs": [
    {
     "data": {
      "text/plain": [
       "'pYoYpYo'"
      ]
     },
     "execution_count": 59,
     "metadata": {},
     "output_type": "execute_result"
    }
   ],
   "source": [
    "a[0].join()"
   ]
  },
  {
   "cell_type": "code",
   "execution_count": 90,
   "metadata": {},
   "outputs": [
    {
     "data": {
      "text/plain": [
       "'abcd'"
      ]
     },
     "execution_count": 90,
     "metadata": {},
     "output_type": "execute_result"
    }
   ],
   "source": [
    "str1=['a','b','c','d']\n",
    "str2=''\n",
    "str2.join(str1)"
   ]
  },
  {
   "cell_type": "code",
   "execution_count": 46,
   "metadata": {},
   "outputs": [
    {
     "name": "stdout",
     "output_type": "stream",
     "text": [
      "131.3398712 202.2487578 34.3947670 156.2134048 294.2023113 441.4970141 5.0990195 140.2716317 24.9198716 7.8740079 "
     ]
    }
   ],
   "source": [
    "'''\n",
    "Square Root\n",
    "Problem #18\n",
    "'''\n",
    "def root(x,n):\n",
    "    r=1\n",
    "    while n>0:\n",
    "        r = (r + (x/r))/2\n",
    "        n-= 1\n",
    "    return r\n",
    "#----------------\n",
    "import numpy as np\n",
    "nums = np.loadtxt('codeabbey\\prob18.txt')\n",
    "#nums=[[25,35],[17,34],[13,28],[2,3],[4,10]]\n",
    "ans_arr=[]\n",
    "for i in range(len(nums)):\n",
    "    x=nums[i][0]\n",
    "    n=nums[i][1]\n",
    "    r=root(x,n)\n",
    "    ans_arr.append(r)\n",
    "\n",
    "for j in range(len(ans_arr)):\n",
    "    num=ans_arr[j]\n",
    "    if num%1==0:\n",
    "        print(int(num),end=' ')\n",
    "    else:\n",
    "        print(\"{:.7f}\".format(num),end=' ')\n",
    "    "
   ]
  },
  {
   "cell_type": "code",
   "execution_count": 7,
   "metadata": {},
   "outputs": [
    {
     "data": {
      "text/plain": [
       "3.196005081874647"
      ]
     },
     "execution_count": 7,
     "metadata": {},
     "output_type": "execute_result"
    }
   ],
   "source": [
    "root(10,3)"
   ]
  },
  {
   "cell_type": "code",
   "execution_count": 47,
   "metadata": {},
   "outputs": [
    {
     "name": "stdout",
     "output_type": "stream",
     "text": [
      "fart       202.2487578\n"
     ]
    }
   ],
   "source": [
    "print(\"{:10s} {:<0.7f}\".format(\"fart\",ans_arr[1]))\n",
    "y=ans_arr[1]"
   ]
  },
  {
   "cell_type": "code",
   "execution_count": 8,
   "metadata": {},
   "outputs": [
    {
     "name": "stdout",
     "output_type": "stream",
     "text": [
      "passes: 49  swaps: 43\n",
      "43 2157597\n"
     ]
    }
   ],
   "source": [
    "'''problem 23 -buble sort + problem 17 - checksum'''\n",
    "import numpy as np\n",
    "num_arr = np.loadtxt('codeabbey\\prob23.txt')\n",
    "#num_arr=[1, 4, 3, 2, 6, 5]\n",
    "swaps=0\n",
    "passes=0\n",
    "k=0\n",
    "while k<(len(num_arr)-1):\n",
    "    if num_arr[k]>num_arr[k+1]:\n",
    "        t=num_arr[k]\n",
    "        num_arr[k]=num_arr[k+1]\n",
    "        num_arr[k+1]=t\n",
    "        swaps+=1\n",
    "    else:\n",
    "        passes+=1\n",
    "        k+=1\n",
    "print('passes:',passes,' swaps:',swaps)\n",
    "\n",
    "\n",
    "#------------------\n",
    "def checksum(arr):\n",
    "    result=0\n",
    "    for i in range(len(arr)):        \n",
    "        result=(result+arr[i])*113\n",
    "        result=result%10000007        \n",
    "    return int(result)\n",
    "#------------------\n",
    "print(swaps,checksum(num_arr))"
   ]
  },
  {
   "cell_type": "code",
   "execution_count": 48,
   "metadata": {},
   "outputs": [
    {
     "name": "stdout",
     "output_type": "stream",
     "text": [
      "ivqoqdviwyzvrai opdiaezynpqoytqekpyngmhfe aptobriaifhgklv nataukuoinzieriiszenycui eeriamgngpkyyicdu ekyjimivnueueayzi wvfbhlzrugzktwiqainsiee afuinzvaltyijnolu zzamyzywbqrkafrvdio dfuyjyrbtmgzuszvspxcac bpiefewhrdokybm "
     ]
    }
   ],
   "source": [
    "'''\n",
    "Rotate String\n",
    "Problem #31\n",
    "'''\n",
    "with open('codeabbey\\prob31.txt',mode='r') as prob31:\n",
    "        arr_ = prob31.readlines()\n",
    "arr=[]\n",
    "for i in range(len(arr_)):\n",
    "    arr.append(arr_[i].split())\n",
    "\n",
    "answer=[]\n",
    "for i in range(len(arr)):\n",
    "    k=int(arr[i][0])\n",
    "    str1=arr[i][1]\n",
    "    if k>0:\n",
    "        answer.append(str1[k:]+str1[0:k])\n",
    "    if k<0:\n",
    "        answer.append(str1[len(str1)+k:]+str1[0:k])\n",
    "\n",
    "        \n",
    "for j in range(len(answer)):\n",
    "    print(answer[j],end=' ')"
   ]
  },
  {
   "cell_type": "code",
   "execution_count": 38,
   "metadata": {},
   "outputs": [],
   "source": [
    "str2='forwhomthebelltolls'\n",
    "#str2[3:]+str2[0:3]"
   ]
  },
  {
   "cell_type": "code",
   "execution_count": 44,
   "metadata": {},
   "outputs": [
    {
     "data": {
      "text/plain": [
       "'tollsforwhomthebell'"
      ]
     },
     "execution_count": 44,
     "metadata": {},
     "output_type": "execute_result"
    }
   ],
   "source": [
    "str2[len(str2)-5:]+str2[0:-5]"
   ]
  },
  {
   "cell_type": "code",
   "execution_count": 71,
   "metadata": {},
   "outputs": [
    {
     "name": "stdout",
     "output_type": "stream",
     "text": [
      "  104  111  104  104  105  109  100  110  97  107  97"
     ]
    }
   ],
   "source": [
    "'''Neumann's Random Generator\n",
    "Problem #24'''\n",
    "import numpy as np\n",
    "#num_arr = np.loadtxt('codeabbey\\prob24.txt')\n",
    "num_arr=[8319, 6239, 7581, 903, 7589, 9511, 4364, 9251, 1762, 3488, 5845]\n",
    "count=0\n",
    "ans_arr=[]\n",
    "i=0\n",
    "temp=[]\n",
    "while i<len(num_arr):    \n",
    "    sqr=str(num_arr[i]**2).zfill(8)\n",
    "    first=int(sqr[2:6])\n",
    "    count+=1\n",
    "    temp=[first]\n",
    "    \n",
    "    sqr=str(first**2).zfill(8)\n",
    "    num=int(sqr[2:6])    \n",
    "    count+=1\n",
    "    while num not in temp[0:-1] :\n",
    "        #print('num=',num,' last num=',temp[-1])\n",
    "        sqr=str(num**2).zfill(8)\n",
    "        num=int(sqr[2:6])\n",
    "        temp.append(num)\n",
    "        count+=1           \n",
    "        \n",
    "    ans_arr.append(count)\n",
    "    i+=1\n",
    "    count=0\n",
    "    temp.clear()\n",
    "\n",
    "    \n",
    "    \n",
    "    \n",
    "for j in range(len(ans_arr)):\n",
    "    print(' ',ans_arr[j],end='')\n",
    "    \n",
    "\n",
    "\n"
   ]
  },
  {
   "cell_type": "code",
   "execution_count": 66,
   "metadata": {},
   "outputs": [
    {
     "data": {
      "text/plain": [
       "[108, 97, 100, 111, 108, 103, 101, 110, 5, 101, 110, 8, 100]"
      ]
     },
     "execution_count": 66,
     "metadata": {},
     "output_type": "execute_result"
    }
   ],
   "source": []
  },
  {
   "cell_type": "code",
   "execution_count": 56,
   "metadata": {},
   "outputs": [
    {
     "data": {
      "text/plain": [
       "8100.0"
      ]
     },
     "execution_count": 56,
     "metadata": {},
     "output_type": "execute_result"
    }
   ],
   "source": [
    "num1=4100\n",
    "num2=(num1**2/100)%10000\n",
    "num2"
   ]
  },
  {
   "cell_type": "code",
   "execution_count": 84,
   "metadata": {},
   "outputs": [],
   "source": [
    "num=str(1).zfill(3)\n",
    "    \n",
    "    "
   ]
  },
  {
   "cell_type": "code",
   "execution_count": 28,
   "metadata": {},
   "outputs": [
    {
     "data": {
      "text/plain": [
       "False"
      ]
     },
     "execution_count": 28,
     "metadata": {},
     "output_type": "execute_result"
    }
   ],
   "source": [
    "12 in [1,3,5,6,7,77,12][0:-1]"
   ]
  },
  {
   "cell_type": "code",
   "execution_count": 32,
   "metadata": {},
   "outputs": [
    {
     "name": "stdout",
     "output_type": "stream",
     "text": [
      "28\n",
      "O R R A O R A R A A A O O A R R O A O A A O O O O A R O "
     ]
    }
   ],
   "source": [
    "''' Pythagorean Theorem\n",
    "Problem #52 '''\n",
    "import math\n",
    "import numpy as np\n",
    "arr = np.loadtxt('codeabbey\\prob52.txt')\n",
    "ans=[]\n",
    "for i in range(len(arr)):\n",
    "    a = arr[i][0]\n",
    "    b = arr[i][1]\n",
    "    c = arr[i][2]\n",
    "    hyp =math.sqrt(a**2 + b**2)\n",
    "    if c == hyp:\n",
    "        ans.append('R')\n",
    "    elif c<hyp:\n",
    "        ans.append('A')\n",
    "    else:\n",
    "        ans.append('O')        \n",
    "    \n",
    "print(len(ans))   \n",
    "for i in range(len(ans)):\n",
    "    print(ans[i],end=' ')"
   ]
  },
  {
   "cell_type": "code",
   "execution_count": 220,
   "metadata": {},
   "outputs": [
    {
     "name": "stdout",
     "output_type": "stream",
     "text": [
      "done\n"
     ]
    }
   ],
   "source": [
    "'''Fibonacci Sequence\n",
    "Problem #67\n",
    " https://stackoverflow.com/questions/28552599/is-there-a-numpy-biginteger/28552630   \n",
    " ==> dtype=object  -  python will treat very big numbers as objects e.i as str'''\n",
    "import numpy as np\n",
    "from pandas import Series\n",
    "arr2 = np.loadtxt('codeabbey\\prob67.txt',dtype=object)\n",
    "\n",
    "#------------------------------\n",
    "def fibo(n):\n",
    "    a=0\n",
    "    b=1\n",
    "    for i in range(n):\n",
    "        yield a\n",
    "        a,b = b,a+b\n",
    "#--------------------------------\n",
    "\n",
    "ans=[]\n",
    "sr1=Series(fibo(1000))\n",
    "for i in range(len(arr2)):    \n",
    "    indx = np.where(int(arr2[i])==sr1.values)[0]\n",
    "    ans.append(indx)\n",
    "    \n",
    "print('done')"
   ]
  },
  {
   "cell_type": "code",
   "execution_count": 221,
   "metadata": {
    "scrolled": false
   },
   "outputs": [
    {
     "name": "stdout",
     "output_type": "stream",
     "text": [
      "569 107 672 387 377 618 118 554 969 866 690 902 263 412 450 353 993 257 89 855 "
     ]
    }
   ],
   "source": [
    "for i in range(len(ans)):\n",
    "    print(int(ans[i]),end=' ')\n"
   ]
  },
  {
   "cell_type": "code",
   "execution_count": 50,
   "metadata": {},
   "outputs": [
    {
     "name": "stdout",
     "output_type": "stream",
     "text": [
      "30.0000000 31.3000000 36.0000000 44.1333333 42.9666667 45.6000000 46.8666667 49.2333333 46.4666667 41.6333333 39.0000000 29.4333333 25.2333333 20.0333333 20.3333333 18.4333333 15.1000000 15.2333333 8.8333333 9.7000000 9.5666667 15.3333333 21.2333333 26.0000000 27.2333333 35.1333333 40.0000000 52.6333333 51.1000000 53.8666667 50.6333333 50.1000000 46.5333333 47.2000000 42.8666667 38.3333333 29.8666667 23.1000000 18.8000000 10.7333333 9.3333333 5.2666667 4.7333333 10.2000000 14.6666667 21.3666667 22.7333333 23.4000000 28.4000000 34.5000000 42.9000000 50.8333333 49.0666667 50.9666667 47.7666667 47.2666667 45.3000000 41.4666667 36.7666667 28.6666667 20.3000000 17.5666667 16.7000000 16.3000000 13.1666667 7.9000000 7.6000000 7.5666667 11.6000000 10.8000000 15.1666667 20.7333333 28.2666667 33.5666667 38.2333333 46.0666667 53.3333333 55.2666667 56.9666667 52.2666667 50.2666667 43.7666667 39.7000000 35.0333333 34.9666667 34.3666667 29.9333333 20.9000000 12.4333333 11.3333333 10.6666667 11.6666667 12.4333333 14.7000000 19.3333333 27.1666667 32.8000000 35.6666667 35.7333333 40.0333333 43.7666667 47.3000000 46.3333333 47.0333333 46.1666667 45.3333333 40.6000000 35.5333333 28.8666667 23.1333333 16.7000000 13.6666667 12.4333333 11.5333333 8.8000000 9.4666667 11.4000000 17.8333333 19.6333333 25.6000000 29.4333333 36.5333333 36.7666667 36.0333333 41.0000000 46.2000000 54.8666667 50.8666667 49.4000000 40.3333333 38.1000000 35.5000000 33.1000000 29.8000000 21.6666667 17.5000000 12.2666667 11.0666667 8.1666667 10.4000000 12.4333333 17.7000000 20.1000000 24.4666667 33.3666667 38.4333333 38.7000000 39.1000000 42.1666667 47.0333333 47.6000000 42.4000000 43.1666667 40.1666667 36.4000000 30.9000000 22.3000000 25.5666667 22.1666667 22.7333333 12.2000000 8.8000000 7.3666667 11.4666667 13.4000000 19.5000000 27.4000000 36.5000000 "
     ]
    }
   ],
   "source": [
    "'''Smoothing the Weather\n",
    "Problem #57'''\n",
    "'''  32.6 31.2 35.2 37.4 44.9 42.1 44.1   '''\n",
    "import decimal\n",
    "import numpy as np\n",
    "arr = np.loadtxt('codeabbey\\prob57.txt')\n",
    "ans=[arr[0]]\n",
    "for i in range(len(arr)-2):\n",
    "    a= decimal.Decimal(arr[i])\n",
    "    b=decimal.Decimal(arr[i+1])\n",
    "    c=decimal.Decimal(arr[i+2])\n",
    "    num=decimal.Decimal((a+b+c)/3)\n",
    "    ans.append(float(num))\n",
    "    \n",
    "ans.append(arr[-1])    \n",
    "\n",
    "for num in ans:\n",
    "    print(f\"{num:02.07f}\",end=' ')\n",
    "    \n"
   ]
  },
  {
   "cell_type": "code",
   "execution_count": 86,
   "metadata": {},
   "outputs": [
    {
     "name": "stdout",
     "output_type": "stream",
     "text": [
      "92.4444444 33.2500000 74.5365854 7.3513514 60.5882353 10 15.0681818 26.6800000 13.2432432 49.4838710 9.6000000 24.7058824 14.1891892 8.9183673 37.1250000 229.0697674 25.9259259 9.9473684 196.5833333 5.3333333 254.2857143 "
     ]
    }
   ],
   "source": [
    "'''Bicycle Race\n",
    "Problem #68  x = vt +Xo'''\n",
    "import decimal\n",
    "import numpy as np\n",
    "arr = np.loadtxt('codeabbey\\prob68.txt')\n",
    "ans=[]\n",
    "for i in range(len(arr)):\n",
    "    v1 = arr[i][1]\n",
    "    v2 = -arr[i][2]\n",
    "    x2 = arr[i][0]\n",
    "    t = decimal.Decimal(x2/(v1-v2))\n",
    "    dist= v1*float(t)\n",
    "    ans.append(dist)\n",
    "\n",
    "for num in ans:\n",
    "    if num%1 == 0:\n",
    "        print(f'{num:2.0f}',end=' ')\n",
    "    else:\n",
    "        print(f\"{num:2.7f}\",end=' ')\n",
    "    "
   ]
  },
  {
   "cell_type": "code",
   "execution_count": 67,
   "metadata": {},
   "outputs": [
    {
     "data": {
      "text/plain": [
       "array([[10.,  1.,  1.],\n",
       "       [20.,  1.,  2.]])"
      ]
     },
     "execution_count": 67,
     "metadata": {},
     "output_type": "execute_result"
    }
   ],
   "source": [
    "arr"
   ]
  },
  {
   "cell_type": "code",
   "execution_count": 80,
   "metadata": {},
   "outputs": [
    {
     "data": {
      "text/plain": [
       "0.0"
      ]
     },
     "execution_count": 80,
     "metadata": {},
     "output_type": "execute_result"
    }
   ],
   "source": [
    "5.0%1"
   ]
  },
  {
   "cell_type": "code",
   "execution_count": 59,
   "metadata": {},
   "outputs": [
    {
     "name": "stdout",
     "output_type": "stream",
     "text": [
      "31 92 324 31  5 163 15  9 109 21 137 92 109  8 137  5 302 163 152 "
     ]
    }
   ],
   "source": [
    "'''Savings Calculator\n",
    "Problem #35\n",
    "Input data contain number of test-cases in the first line.\n",
    "Each of the following lines contain three numbers S - starting ammount, R- ammount wanted and P - interested rate.'''\n",
    "import numpy as np\n",
    "from decimal import Decimal, getcontext\n",
    "import math\n",
    "\n",
    "#getcontext().prec = 2\n",
    "arr = np.loadtxt('codeabbey\\prob35.txt')\n",
    "ans=[]\n",
    "\n",
    "for i in range(len(arr)):\n",
    "    years=0\n",
    "    s = (arr[i][0])\n",
    "    r = (arr[i][1])\n",
    "    p = (arr[i][2]/100)    \n",
    "    while s<=r:\n",
    "        s+=(s*p)\n",
    "        s=round(s,2)\n",
    "        years+=1\n",
    "    \n",
    "    ans.append(years)    \n",
    "    \n",
    "    \n",
    "for num in ans:\n",
    "    print(f\"{num:2.0f}\",end=' ')"
   ]
  },
  {
   "cell_type": "code",
   "execution_count": 7,
   "metadata": {},
   "outputs": [
    {
     "name": "stdout",
     "output_type": "stream",
     "text": [
      "0 222 3 214 1 202 13310 45 54316 795 449024 6780 1966 11183 "
     ]
    }
   ],
   "source": [
    "'''prob 25\n",
    "Xnext = (A * Xcur + C) % M\n",
    "Test-case consists of five values: A, C, M, X0, N where first three are the same as in formula,\n",
    "while X0 is the initial member of a sequence and N is the number of a member which we want to calculate.'''\n",
    "\n",
    "import numpy as np\n",
    "arr = np.loadtxt('codeabbey\\prob25.txt')\n",
    "ans=[]\n",
    "for i in range(len(arr)):\n",
    "    a = arr[i][0]\n",
    "    c = arr[i][1]\n",
    "    m = arr[i][2]\n",
    "    X0 = arr[i][3]\n",
    "    N = arr[i][4]\n",
    "    count=0\n",
    "    Xnext=X0\n",
    "    while count<N:        \n",
    "        Xnext = (a*Xnext + c)%m\n",
    "        count+=1\n",
    "    ans.append(Xnext)\n",
    "\n",
    "for item in ans:\n",
    "    print(int(item),end=' ')\n",
    "    \n"
   ]
  },
  {
   "cell_type": "code",
   "execution_count": 138,
   "metadata": {},
   "outputs": [
    {
     "name": "stdout",
     "output_type": "stream",
     "text": [
      "12\n"
     ]
    }
   ],
   "source": [
    "'''\n",
    "Josephus Problem\n",
    "Problem #32\n",
    "1st round: 1 2 (3) 4 5 (6) 7 8 (9) 10\n",
    "2nd round:                            1 (2) 4 5 (7) 8 10\n",
    "3rd round:                                                (1) 4 5 (8) 10\n",
    "4th round:                                                               4 (5) 10\n",
    "5th round:                                                                        4 (10)\n",
    "'''\n",
    "import numpy as np\n",
    "n_people = 46\n",
    "step = 9\n",
    "arr= np.arange(1,n_people+1)\n",
    "#print(arr)\n",
    "#---------------------------\n",
    "def eliminated(arr,n,k):\n",
    "    j=n\n",
    "    next_arr=[]\n",
    "    for i in range(len(arr)):\n",
    "        if j!=k:\n",
    "            next_arr.append(arr[i])\n",
    "            j+=1\n",
    "        else:\n",
    "            j=1\n",
    "    return next_arr,j\n",
    "#-----------------------------------\n",
    "arr2 = eliminated(arr,1,step)\n",
    "\n",
    "while len(arr2[0])>1:\n",
    "    n_index=arr2[1]    \n",
    "    arr2=eliminated(arr2[0],n_index,step)\n",
    "    #print(arr2[0],' ')\n",
    "\n",
    "print(arr2[0][0])   "
   ]
  },
  {
   "cell_type": "code",
   "execution_count": 188,
   "metadata": {},
   "outputs": [
    {
     "name": "stdout",
     "output_type": "stream",
     "text": [
      "5 20 24 5 28 23 20 28 3 15 18 19 25 26 5 11 17 2 20 23 28 22 12 18 8 28 14 4 11 30 28 21 28 3 14 26 15 12 6 7 30 24 18 22 7 21 8 13 "
     ]
    }
   ],
   "source": [
    "'''Bit Count\n",
    "Problem #81\n",
    "\n",
    "https://stackoverflow.com/questions/10411085/converting-integer-to-binary-in-python/10411108\n",
    "\n",
    "'''\n",
    "import numpy as np\n",
    "arr = np.loadtxt('codeabbey\\prob81.txt')\n",
    "bin32 = lambda x : ''.join(reversed( [str((x >> i) & 1) for i in range(32)] ) )\n",
    "ans= []\n",
    "for num in arr:\n",
    "    b = bin32(int(num))\n",
    "    count = b.count('1')\n",
    "    ans.append(count)\n",
    "    \n",
    "for n in ans:\n",
    "    print(n,end=' ')"
   ]
  },
  {
   "cell_type": "code",
   "execution_count": 171,
   "metadata": {},
   "outputs": [
    {
     "data": {
      "text/plain": [
       "3"
      ]
     },
     "execution_count": 171,
     "metadata": {},
     "output_type": "execute_result"
    }
   ],
   "source": [
    "get_bin = lambda x,n: format(x, 'b').zfill(n)\n",
    "\n",
    "get_bin(100,32).count('1')"
   ]
  },
  {
   "cell_type": "code",
   "execution_count": 174,
   "metadata": {},
   "outputs": [
    {
     "data": {
      "text/plain": [
       "'00000000000000000000000000000000'"
      ]
     },
     "execution_count": 174,
     "metadata": {},
     "output_type": "execute_result"
    }
   ],
   "source": [
    "'{:032b}'.format(0)"
   ]
  },
  {
   "cell_type": "code",
   "execution_count": 178,
   "metadata": {},
   "outputs": [
    {
     "data": {
      "text/plain": [
       "'00000000000000000000000001100100'"
      ]
     },
     "execution_count": 178,
     "metadata": {},
     "output_type": "execute_result"
    }
   ],
   "source": [
    "bin8 = lambda x : ''.join(reversed( [str((x >> i) & 1) for i in range(32)] ) )\n",
    "bin8(100)"
   ]
  },
  {
   "cell_type": "code",
   "execution_count": 167,
   "metadata": {},
   "outputs": [
    {
     "data": {
      "text/plain": [
       "-1"
      ]
     },
     "execution_count": 167,
     "metadata": {},
     "output_type": "execute_result"
    }
   ],
   "source": [
    "int32(-1)"
   ]
  },
  {
   "cell_type": "code",
   "execution_count": 7,
   "metadata": {},
   "outputs": [],
   "source": [
    "'''Prime Numbers Generation\n",
    "Problem #61'''\n",
    "import numpy as np\n",
    "\n",
    "nums =[]\n",
    "\n",
    "arr1 = np.arange(1,11,0.2)\n",
    "nums = [x*10 for x in arr1]   "
   ]
  },
  {
   "cell_type": "code",
   "execution_count": 10,
   "metadata": {},
   "outputs": [
    {
     "data": {
      "text/plain": [
       "numpy.ndarray"
      ]
     },
     "execution_count": 10,
     "metadata": {},
     "output_type": "execute_result"
    }
   ],
   "source": [
    "type(arr1)"
   ]
  },
  {
   "cell_type": "code",
   "execution_count": null,
   "metadata": {},
   "outputs": [],
   "source": []
  }
 ],
 "metadata": {
  "kernelspec": {
   "display_name": "Python 3",
   "language": "python",
   "name": "python3"
  },
  "language_info": {
   "codemirror_mode": {
    "name": "ipython",
    "version": 3
   },
   "file_extension": ".py",
   "mimetype": "text/x-python",
   "name": "python",
   "nbconvert_exporter": "python",
   "pygments_lexer": "ipython3",
   "version": "3.7.0"
  }
 },
 "nbformat": 4,
 "nbformat_minor": 2
}
