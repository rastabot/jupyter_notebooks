{
 "cells": [
  {
   "cell_type": "code",
   "execution_count": 1,
   "metadata": {},
   "outputs": [],
   "source": [
    "import string\n",
    "k1={'a':1,'b':2,'c':3,'d':4,'e':5,'f':6,'g':7,'h':8,'i':9,'j':10,'k':11,'m':12,'n':13,'l':14,'o':15,'p':16,'q':17,'r':18,'s':19,'t':20,'u':21,'v':22,'w':23,'x':24,'y':25,'z':26}"
   ]
  },
  {
   "cell_type": "code",
   "execution_count": 2,
   "metadata": {},
   "outputs": [],
   "source": [
    "def new_key(key_num):\n",
    "    '''\n",
    "    creates a new dictionary while rotating the values e.g: 'a'=2,'b'=3 ==> next rotation is 'a'=3,'b'=4..\n",
    "    ** A NEW KEY or Cypher **\n",
    "    num_arr is 1 to 26 \n",
    "    key_num is the key number or number of rotations\n",
    "    '''\n",
    "    k1={'a':1,'b':2,'c':3,'d':4,'e':5,'f':6,'g':7,'h':8,'i':9,'j':10,'k':11,'m':12,'n':13,'l':14,'o':15,'p':16,'q':17,'r':18,'s':19,'t':20,'u':21,'v':22,'w':23,'x':24,'y':25,'z':26}\n",
    "    num_arr=list(k1.values())\n",
    "    k2={}\n",
    "    if key_num==0:\n",
    "        return k1\n",
    "    else:\n",
    "        for i in range(key_num):\n",
    "            rotate_nums(num_arr)\n",
    "        abc=string.ascii_lowercase\n",
    "        list1= zip(list(abc),num_arr)\n",
    "        k2=dict(list1)\n",
    "        return k2"
   ]
  },
  {
   "cell_type": "code",
   "execution_count": 3,
   "metadata": {},
   "outputs": [],
   "source": [
    "\n",
    "def str_encode(str1,k):\n",
    "    numb_arr=[]\n",
    "    space_indx=[]\n",
    "    '''\n",
    "   enocoding each letter to a number, space is encoded as 0, returns an array of numbers / values from  k1\n",
    "    '''\n",
    "   \n",
    "    for j in range(len(str1)):\n",
    "        if str1[j]==' ':\n",
    "            numb_arr.append(0)\n",
    "        if str1[j] in k.keys():\n",
    "            numb_arr.append(k[str1[j]])\n",
    "            \n",
    "    return numb_arr\n",
    "    "
   ]
  },
  {
   "cell_type": "code",
   "execution_count": 4,
   "metadata": {},
   "outputs": [],
   "source": [
    "def rotate_nums(num_arr): \n",
    "    '''\n",
    "    the input is an arr of nums from 1 to 26\n",
    "    '''\n",
    "    swap=num_arr[0]\n",
    "    for i in range(0,25):\n",
    "        num_arr[i]=num_arr[i+1]\n",
    "    \n",
    "    num_arr[25]=swap"
   ]
  },
  {
   "cell_type": "code",
   "execution_count": 5,
   "metadata": {},
   "outputs": [
    {
     "data": {
      "text/plain": [
       "[8, 15, 14, 1]"
      ]
     },
     "execution_count": 5,
     "metadata": {},
     "output_type": "execute_result"
    }
   ],
   "source": [
    "str1='hola'\n",
    "k1=new_key(0)\n",
    "str_encode(str1,k1)"
   ]
  },
  {
   "cell_type": "code",
   "execution_count": 6,
   "metadata": {},
   "outputs": [],
   "source": [
    "\n",
    "def decode_num(num_arr,k):   \n",
    "    '''\n",
    "    decodes the number array in the key that is set\n",
    "    \n",
    "    '''\n",
    "    letter_arr=list(k.keys())\n",
    "    str2=''               \n",
    "    for i in range(len(num_arr)):\n",
    "        if num_arr[i]==0:\n",
    "            str2+=' '\n",
    "        else:\n",
    "            str2+=letter_arr[num_arr[i]-1]\n",
    "            \n",
    "    return str2"
   ]
  },
  {
   "cell_type": "code",
   "execution_count": 7,
   "metadata": {},
   "outputs": [
    {
     "data": {
      "text/plain": [
       "'hola'"
      ]
     },
     "execution_count": 7,
     "metadata": {},
     "output_type": "execute_result"
    }
   ],
   "source": [
    "decode_num(str_encode(str1,k1),k1)"
   ]
  },
  {
   "cell_type": "code",
   "execution_count": 8,
   "metadata": {},
   "outputs": [],
   "source": [
    "def decode_phrase(phrase):\n",
    "    for i in range(26):\n",
    "        k=new_key(i)\n",
    "        str3=decode_num(str_encode(phrase,k),k)\n",
    "        print(str3)\n",
    "            "
   ]
  },
  {
   "cell_type": "code",
   "execution_count": 9,
   "metadata": {},
   "outputs": [
    {
     "name": "stdout",
     "output_type": "stream",
     "text": [
      "enter phrase to encode :hello world\n",
      "enter key  1 to 25 : 5\n",
      "mjqqt btwqi\n"
     ]
    }
   ],
   "source": [
    "\n",
    "str2=input('enter phrase to encode :')\n",
    "\n",
    "num1=int(input('enter key  1 to 25 : '))\n",
    "\n",
    "k2=new_key(num1)\n",
    "\n",
    "#print(str_encode(str2,k2))\n",
    "print(decode_num(str_encode(str2,k2),k2))"
   ]
  },
  {
   "cell_type": "code",
   "execution_count": 12,
   "metadata": {},
   "outputs": [
    {
     "name": "stdout",
     "output_type": "stream",
     "text": [
      "mjqqt btwqi\n",
      "nkrru cuxrj\n",
      "olssv dvysk\n",
      "pmttw ewztl\n",
      "qnuux fxaum\n",
      "rovvy gybvn\n",
      "spwwz hzcwo\n",
      "tqxxa iadxp\n",
      "uryyb jbeyq\n",
      "vszzc kcfzr\n",
      "wtaad ldgas\n",
      "xubbe mehbt\n",
      "yvccf nficu\n",
      "zwddg ogjdv\n",
      "axeeh phkew\n",
      "byffi qilfx\n",
      "czggj rjmgy\n",
      "dahhk sknhz\n",
      "ebiil tloia\n",
      "fcjjm umpjb\n",
      "gdkkn vnqkc\n",
      "hello world\n",
      "ifmmp xpsme\n",
      "jgnnq yqtnf\n",
      "khoor zruog\n",
      "lipps asvph\n"
     ]
    }
   ],
   "source": [
    "phrase='mjqqt btwqi'\n",
    "decode_phrase(phrase)"
   ]
  },
  {
   "cell_type": "code",
   "execution_count": null,
   "metadata": {},
   "outputs": [],
   "source": []
  }
 ],
 "metadata": {
  "kernelspec": {
   "display_name": "Python 3",
   "language": "python",
   "name": "python3"
  },
  "language_info": {
   "codemirror_mode": {
    "name": "ipython",
    "version": 3
   },
   "file_extension": ".py",
   "mimetype": "text/x-python",
   "name": "python",
   "nbconvert_exporter": "python",
   "pygments_lexer": "ipython3",
   "version": "3.7.0"
  }
 },
 "nbformat": 4,
 "nbformat_minor": 2
}
